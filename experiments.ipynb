{
 "cells": [
  {
   "cell_type": "code",
   "execution_count": 40,
   "id": "3dbe0fe4-71db-4dea-918e-9ca5aea27625",
   "metadata": {},
   "outputs": [],
   "source": [
    "import numpy as np\n",
    "import pandas as pd\n",
    "from sklearn.model_selection import train_test_split\n",
    "from sklearn.metrics import f1_score, accuracy_score\n",
    "\n",
    "from collections import Counter\n",
    "\n",
    "from sklearn.preprocessing import LabelEncoder\n",
    "from catboost import CatBoostClassifier, CatBoostRegressor\n",
    "from sklearn.feature_extraction.text import TfidfVectorizer\n",
    "from sklearn.cluster import KMeans\n",
    "from sklearn.pipeline import Pipeline\n",
    "from sklearn.preprocessing import StandardScaler\n",
    "from sklearn.neural_network import MLPClassifier\n",
    "\n",
    "\n",
    "def get_mode(row): # Кастомная функция вычисления модального значения категориального признака\n",
    "    counter = Counter(row)\n",
    "    (most_common, _) = counter.most_common(1)[0]\n",
    "    return most_common"
   ]
  },
  {
   "cell_type": "code",
   "execution_count": 3,
   "id": "0001df84",
   "metadata": {},
   "outputs": [],
   "source": [
    "from datetime import datetime\n",
    "import pytz\n",
    "\n",
    "region_timezones = {\n",
    "    'Moscow': 'Europe/Moscow',                       # +03:00\n",
    "    'Moscow Oblast': 'Europe/Moscow',                # +03:00\n",
    "    'St.-Petersburg': 'Europe/Moscow',               # +03:00\n",
    "    'Sverdlovsk Oblast': 'Asia/Yekaterinburg',       # +05:00\n",
    "    'Sverdlovsk': 'Asia/Yekaterinburg',              # +05:00\n",
    "    'Krasnodar Krai': 'Europe/Moscow',               # +03:00\n",
    "    'Novosibirsk Oblast': 'Asia/Novosibirsk',        # +07:00\n",
    "    'Bashkortostan Republic': 'Asia/Yekaterinburg',  # +05:00\n",
    "    'Samara Oblast': 'Europe/Samara',                # +04:00\n",
    "    'Nizhny Novgorod Oblast': 'Europe/Moscow',       # +03:00\n",
    "    'Chelyabinsk': 'Asia/Yekaterinburg',             # +05:00\n",
    "    'Tatarstan Republic': 'Europe/Moscow',           # +03:00\n",
    "    'Rostov': 'Europe/Moscow',                       # +03:00\n",
    "    'Krasnoyarsk Krai': 'Asia/Krasnoyarsk',          # +07:00\n",
    "    'Perm Krai': 'Asia/Yekaterinburg',               # +05:00\n",
    "    'Leningradskaya Oblast\\'': 'Europe/Moscow',      # +03:00\n",
    "    'Yaroslavl Oblast': 'Europe/Moscow',             # +03:00\n",
    "    'Irkutsk Oblast': 'Asia/Irkutsk',                # +08:00\n",
    "    'Saratov Oblast': 'Europe/Saratov',              # +04:00\n",
    "    'Voronezh Oblast': 'Europe/Moscow',              # +03:00\n",
    "    'Stavropol Kray': 'Europe/Moscow',               # +03:00\n",
    "    'Primorye': 'Asia/Vladivostok',                  # +10:00\n",
    "    'Khabarovsk': 'Asia/Vladivostok',                # +10:00\n",
    "    'Volgograd Oblast': 'Europe/Volgograd',          # +03:00\n",
    "    'Amur Oblast': 'Asia/Yakutsk',                   # +09:00\n",
    "    'Khanty-Mansia': 'Asia/Yekaterinburg',           # +05:00\n",
    "    'Kuzbass': 'Asia/Novokuznetsk',                  # +07:00\n",
    "    'Omsk Oblast': 'Asia/Omsk',                      # +06:00\n",
    "    'Tula Oblast': 'Europe/Moscow',                  # +03:00\n",
    "    'Udmurtiya Republic': 'Europe/Samara',           # +04:00\n",
    "    'Orenburg Oblast': 'Asia/Yekaterinburg',         # +05:00\n",
    "    'Altay Kray': 'Asia/Barnaul',                    # +07:00\n",
    "    'Tomsk Oblast': 'Asia/Tomsk',                    # +07:00\n",
    "    'Khakasiya Republic': 'Asia/Krasnoyarsk',        # +07:00\n",
    "    'Vladimir Oblast': 'Europe/Moscow',              # +03:00\n",
    "    'Tver Oblast': 'Europe/Moscow',                  # +03:00\n",
    "    'Tyumen Oblast': 'Asia/Yekaterinburg',           # +05:00\n",
    "    'Belgorod Oblast': 'Europe/Moscow',              # +03:00\n",
    "    'Ryazan Oblast': 'Europe/Moscow',                # +03:00\n",
    "    'Kaliningrad Oblast': 'Europe/Kaliningrad',      # +02:00\n",
    "    'Ulyanovsk': 'Europe/Samara',                    # +04:00\n",
    "    'Arkhangelskaya': 'Europe/Moscow',               # +03:00\n",
    "    'Chuvashia': 'Europe/Moscow',                    # +03:00\n",
    "    'Lipetsk Oblast': 'Europe/Moscow',               # +03:00\n",
    "    'Vologda Oblast': 'Europe/Moscow',               # +03:00\n",
    "    'Novgorod Oblast': 'Europe/Moscow',              # +03:00\n",
    "    'Murmansk': 'Europe/Moscow',                     # +03:00\n",
    "    'Smolensk Oblast': 'Europe/Moscow',              # +03:00\n",
    "    'Buryatiya Republic': 'Asia/Irkutsk',            # +08:00\n",
    "    'Tambov Oblast': 'Europe/Moscow',                # +03:00\n",
    "    'Bryansk Oblast': 'Europe/Moscow',               # +03:00\n",
    "    'Komi': 'Europe/Moscow',                         # +03:00\n",
    "    'Kirov Oblast': 'Europe/Moscow',                 # +03:00\n",
    "    'Kemerovo Oblast': 'Asia/Novokuznetsk',          # +07:00\n",
    "    'Adygeya Republic': 'Europe/Moscow',             # +03:00\n",
    "    'Sakha': 'Asia/Yakutsk',                         # +09:00\n",
    "    'Kostroma Oblast': 'Europe/Moscow',              # +03:00\n",
    "    'Astrakhan Oblast': 'Europe/Volgograd',          # +03:00\n",
    "    'Kamchatka': 'Asia/Kamchatka',                   # +12:00\n",
    "    'Sakhalin Oblast': 'Asia/Sakhalin',              # +11:00\n",
    "    'Zabaykalskiy (Transbaikal) Kray': 'Asia/Chita', # +09:00\n",
    "    'Yamalo-Nenets': 'Asia/Yekaterinburg',           # +05:00\n",
    "    'Dagestan': 'Europe/Moscow',                     # +03:00\n",
    "    'Karelia': 'Europe/Moscow',                      # +03:00\n",
    "    'Pskov Oblast': 'Europe/Moscow',                 # +03:00\n",
    "    'Kursk Oblast': 'Europe/Moscow',                 # +03:00\n",
    "    'Kursk': 'Europe/Moscow',                        # +03:00\n",
    "    'Oryol oblast': 'Europe/Moscow',                 # +03:00\n",
    "    'Mordoviya Republic': 'Europe/Moscow',           # +03:00\n",
    "    'Mariy-El Republic': 'Europe/Moscow',            # +03:00\n",
    "    'North Ossetia–Alania': 'Europe/Moscow',         # +03:00\n",
    "    'Vladimir': 'Europe/Moscow',                     # +03:00\n",
    "    'Saratovskaya Oblast': 'Europe/Saratov',         # +04:00\n",
    "    'Tula': 'Europe/Moscow',                         # +03:00\n",
    "    'Voronezj': 'Europe/Moscow',                     # +03:00\n",
    "    'Chukotka': 'Asia/Anadyr',                       # +12:00\n",
    "    'Crimea': 'Europe/Simferopol',                   # +03:00\n",
    "    'Kalmykiya Republic': 'Europe/Volgograd',        # +03:00\n",
    "    'Tyva Republic': 'Asia/Krasnoyarsk',             # +07:00\n",
    "    'Jewish Autonomous Oblast': 'Asia/Vladivostok',  # +10:00\n",
    "    'Transbaikal Territory': 'Asia/Chita',           # +09:00\n",
    "    'Ingushetiya Republic': 'Europe/Moscow',         # +03:00\n",
    "    'Omsk': 'Asia/Omsk',                             # +06:00\n",
    "    'Stavropol’ Kray': 'Europe/Moscow',              # +03:00\n",
    "    'Arkhangelsk Oblast': 'Europe/Moscow',           # +03:00\n",
    "    'Astrakhan': 'Europe/Volgograd',                 # +03:00\n",
    "    'Penza Oblast': 'Europe/Moscow',\n",
    "    'Kurgan Oblast': 'Asia/Yekaterinburg',\n",
    "    'Kaluga Oblast': 'Europe/Moscow',\n",
    "    'Ivanovo Oblast': 'Europe/Moscow',\n",
    "    'Krasnodarskiy': 'Europe/Moscow',\n",
    "    'Krasnoyarskiy Krai': 'Asia/Krasnoyarsk',  # Добавлен Красноярский край\n",
    "    'Krasnoyarskiy': 'Asia/Krasnoyarsk',  # Добавлен Красноярский край\n",
    "    'Chechnya': 'Europe/Moscow',\n",
    "    'Karachayevo-Cherkesiya Republic': 'Europe/Moscow',\n",
    "    'Magadan Oblast': 'Asia/Magadan',\n",
    "    'Altai': 'Asia/Barnaul',  # Для обозначения обоих регионов\n",
    "    'Ivanovo': 'Europe/Moscow',  # Иваново\n",
    "    'Jaroslavl': 'Europe/Moscow',  # Ярославль (обычно \"Yaroslavl\" на английском)\n",
    "    'Kabardino-Balkariya Republic': 'Europe/Moscow',  # Кабардино-Балкария\n",
    "    'Kaliningrad': 'Europe/Kaliningrad',  # Калининград\n",
    "    'Kaluga': 'Europe/Moscow',  # Калуга\n",
    "    'Kirov': 'Europe/Moscow',  # Киров\n",
    "    'Nenets': 'Europe/Moscow',  # Ненецкий автономный округ\n",
    "    'North Ossetia': 'Europe/Moscow',  # Северная Осетия\n",
    "    'Orel Oblast': 'Europe/Moscow',  # Орловская область\n",
    "    'Penza': 'Europe/Moscow',  # Пенза\n",
    "    'Perm': 'Asia/Yekaterinburg',  # Пермь (Пермский край)\n",
    "    'Primorskiy (Maritime) Kray': 'Asia/Vladivostok',  # Приморский край\n",
    "    'Sebastopol City': 'Europe/Simferopol',  # Севастополь\n",
    "    'Smolensk': 'Europe/Moscow',  # Смоленск\n",
    "    'Smolenskaya Oblast’': 'Europe/Moscow',  # Смоленская область\n",
    "    'Stavropol Krai': 'Europe/Moscow',  # Ставропольский край\n",
    "    'Tambov': 'Europe/Moscow',  # Тамбов\n",
    "    'Tver’ Oblast': 'Europe/Moscow',  # Тверская область\n",
    "    'Tyumen’ Oblast': 'Asia/Yekaterinburg',  # Тюменская область\n",
    "    'Vologda': 'Europe/Moscow',  # Вологда\n",
    "}\n",
    "\n",
    "# Функция для перевода времени\n",
    "def convert_to_local_time(row):\n",
    "    # Парсим timestamp\n",
    "    event_time = pd.to_datetime(row['event_timestamp'])\n",
    "\n",
    "    # Получаем часовой пояс региона\n",
    "    region_name = row['region']\n",
    "    if region_name in region_timezones:\n",
    "        timezone = pytz.timezone(region_timezones[region_name])\n",
    "    else:\n",
    "        raise ValueError(f\"Unknown region: {region_name}\")\n",
    "\n",
    "    # Переводим в местное время\n",
    "    local_time = event_time.astimezone(timezone)\n",
    "    local_time = local_time.strftime('%Y-%m-%d %H:%M:%S')\n",
    "\n",
    "    return local_time"
   ]
  },
  {
   "cell_type": "code",
   "execution_count": 4,
   "id": "9b75755d-6b33-434d-b51d-cb58ba292bd9",
   "metadata": {},
   "outputs": [],
   "source": [
    "path = './' # Ваш путь до директории с данными /path/to/data/\n",
    "data = pd.read_csv(path + 'train_events.csv')\n",
    "video = pd.read_csv(path + 'video_info_v2.csv')\n",
    "targets = pd.read_csv(path + 'train_targets.csv')"
   ]
  },
  {
   "cell_type": "code",
   "execution_count": 5,
   "id": "b005f8c3-737d-490d-b926-063a6969dbfb",
   "metadata": {},
   "outputs": [],
   "source": [
    "TRAIN_IDS, VAL_IDS = train_test_split(data['viewer_uid'].unique(), train_size=0.8, shuffle=True, random_state=11)"
   ]
  },
  {
   "cell_type": "code",
   "execution_count": 6,
   "id": "98a9466a",
   "metadata": {},
   "outputs": [],
   "source": [
    "# кодировка временных данных\n",
    "data['timezone'] = pd.Series(region_timezones).loc[data['region']].values\n",
    "data['local_event_timestamp'] = data.apply(convert_to_local_time, 1)\n",
    "data['weekday'] = pd.to_datetime(data['local_event_timestamp']).dt.weekday\n",
    "data['part of day'] = pd.to_datetime(data['local_event_timestamp']).dt.hour % 6"
   ]
  },
  {
   "cell_type": "code",
   "execution_count": 7,
   "id": "ca2164aa",
   "metadata": {},
   "outputs": [
    {
     "name": "stdout",
     "output_type": "stream",
     "text": [
      "(481480, 7270)\n"
     ]
    }
   ],
   "source": [
    "# кодировка описания видео -- класстеризация\n",
    "vectorizer = TfidfVectorizer(\n",
    "    max_df=5e-4,\n",
    "    min_df=50,\n",
    "    stop_words=\"english\",\n",
    ")\n",
    "X_tfidf = vectorizer.fit_transform(video.title)\n",
    "print(X_tfidf.shape)\n",
    "kmeans = KMeans(\n",
    "    n_clusters=10000,\n",
    "    max_iter=30,\n",
    "    n_init=1,\n",
    "    random_state=1,\n",
    ").fit(X_tfidf)\n",
    "cluster_ids, cluster_sizes = np.unique(kmeans.labels_, return_counts=True)\n",
    "video['cluster_id'] = kmeans.labels_"
   ]
  },
  {
   "cell_type": "code",
   "execution_count": 8,
   "id": "3db4e087",
   "metadata": {},
   "outputs": [],
   "source": [
    "from pickle import dump, load\n",
    "with open('vectorizer.pickle','wb') as f:\n",
    "    dump(vectorizer, f)\n",
    "with open('kmeans.pickle','wb') as f:\n",
    "    dump(kmeans, f)"
   ]
  },
  {
   "cell_type": "code",
   "execution_count": 73,
   "id": "f3014b33",
   "metadata": {},
   "outputs": [
    {
     "name": "stderr",
     "output_type": "stream",
     "text": [
      "/var/folders/1j/52ghjy5x1v13yrj1b6fgwlcc0000gn/T/ipykernel_78000/1332553150.py:4: SettingWithCopyWarning: \n",
      "A value is trying to be set on a copy of a slice from a DataFrame.\n",
      "Try using .loc[row_indexer,col_indexer] = value instead\n",
      "\n",
      "See the caveats in the documentation: https://pandas.pydata.org/pandas-docs/stable/user_guide/indexing.html#returning-a-view-versus-a-copy\n",
      "  train_targets.loc[:, 'age_class'] = pd.cut(train_targets['age'], bins=[9, 20, 30, 40, 60], labels=[0, 1, 2, 3])\n",
      "/var/folders/1j/52ghjy5x1v13yrj1b6fgwlcc0000gn/T/ipykernel_78000/1332553150.py:7: SettingWithCopyWarning: \n",
      "A value is trying to be set on a copy of a slice from a DataFrame.\n",
      "Try using .loc[row_indexer,col_indexer] = value instead\n",
      "\n",
      "See the caveats in the documentation: https://pandas.pydata.org/pandas-docs/stable/user_guide/indexing.html#returning-a-view-versus-a-copy\n",
      "  val_targets.loc[:, 'age_class'] = pd.cut(val_targets['age'], bins=[9, 20, 30, 40, 60], labels=[0, 1, 2, 3])\n"
     ]
    }
   ],
   "source": [
    "events = data.merge(video, 'left')\n",
    "train_events = events[events['viewer_uid'].isin(TRAIN_IDS)].merge(targets, on='viewer_uid', how='inner')\n",
    "train_targets = targets[targets['viewer_uid'].isin(TRAIN_IDS)]\n",
    "train_targets.loc[:, 'age_class'] = pd.cut(train_targets['age'], bins=[9, 20, 30, 40, 60], labels=[0, 1, 2, 3])\n",
    "train_targets = train_targets.sort_values(by='viewer_uid').reset_index(drop=True)\n",
    "val_targets = targets[targets['viewer_uid'].isin(VAL_IDS)]\n",
    "val_targets.loc[:, 'age_class'] = pd.cut(val_targets['age'], bins=[9, 20, 30, 40, 60], labels=[0, 1, 2, 3])\n",
    "val_targets = val_targets.sort_values(by='viewer_uid').reset_index(drop=True)"
   ]
  },
  {
   "cell_type": "code",
   "execution_count": 74,
   "id": "5123d1de",
   "metadata": {},
   "outputs": [],
   "source": [
    "def check(predicts, *args):\n",
    "    if 'age_class' not in predicts.columns:\n",
    "        age_class_bins = [0, 20, 30, 40, 60] # Возрастные категории пользователей, подробнее в файле с описанием данных\n",
    "        predicts['age_class'] = pd.cut(predicts['age'], bins=age_class_bins, labels=[0, 1, 2, 3])\n",
    "    predicts = predicts.sort_values(by='viewer_uid').reset_index(drop=True)\n",
    "\n",
    "    f1_weighted = f1_score(val_targets['age_class'], predicts['age_class'], average='weighted')\n",
    "    accuracy = accuracy_score(val_targets['sex'], predicts['sex'])\n",
    "\n",
    "    final_score = 0.7 * f1_weighted + 0.3 * accuracy\n",
    "    print(f'Weighted F1 = {f1_weighted:.4f} \\tAccuracy = {accuracy:.4f} \\tFinal Score = {final_score:.4f}')"
   ]
  },
  {
   "cell_type": "markdown",
   "id": "a31fc427-7c86-4a3e-9386-5e0434282e66",
   "metadata": {},
   "source": [
    "# Categorial EDA "
   ]
  },
  {
   "cell_type": "code",
   "execution_count": 32,
   "id": "02005dd5-ee67-4f3a-b4d9-c7e341594955",
   "metadata": {},
   "outputs": [],
   "source": [
    "def aggregate_mode(cat):\n",
    "    info = pd.DataFrame({'age': train_events.groupby(cat)['age'].median(), 'sex': train_events.groupby(cat)['sex'].apply(get_mode)})\n",
    "    val_events = events[events['viewer_uid'].isin(VAL_IDS)].join(info, on=cat, how='left')\n",
    "    predicts = pd.DataFrame({'age': val_events.groupby('viewer_uid')['age'].median(), 'sex': val_events.groupby('viewer_uid')['sex'].apply(get_mode)}).loc[VAL_IDS]\n",
    "    predicts['sex'] = predicts['sex'].fillna(info['sex'].mode()[0])\n",
    "    predicts['age'] = predicts['age'].fillna(info['age'].median())\n",
    "    return predicts"
   ]
  },
  {
   "cell_type": "code",
   "execution_count": 33,
   "id": "5ad668af",
   "metadata": {},
   "outputs": [
    {
     "name": "stdout",
     "output_type": "stream",
     "text": [
      "Weighted F1 = 0.3354 \tAccuracy = 0.6844 \tFinal Score = 0.4401\n"
     ]
    }
   ],
   "source": [
    "check(aggregate_mode('cluster_id'))"
   ]
  },
  {
   "cell_type": "code",
   "execution_count": 95,
   "id": "a2c7664a",
   "metadata": {},
   "outputs": [
    {
     "name": "stdout",
     "output_type": "stream",
     "text": [
      "Weighted F1 = 0.3630 \tAccuracy = 0.7331 \tFinal Score = 0.4740\n"
     ]
    }
   ],
   "source": [
    "check(aggregate_mode('author_id'))"
   ]
  },
  {
   "cell_type": "code",
   "execution_count": 96,
   "id": "a19f0f4b",
   "metadata": {},
   "outputs": [
    {
     "name": "stdout",
     "output_type": "stream",
     "text": [
      "Weighted F1 = 0.2205 \tAccuracy = 0.6884 \tFinal Score = 0.3609\n"
     ]
    }
   ],
   "source": [
    "check(aggregate_mode('category'))"
   ]
  },
  {
   "cell_type": "code",
   "execution_count": 97,
   "id": "d9973b60",
   "metadata": {},
   "outputs": [
    {
     "name": "stdout",
     "output_type": "stream",
     "text": [
      "Weighted F1 = 0.3970 \tAccuracy = 0.7408 \tFinal Score = 0.5002\n"
     ]
    }
   ],
   "source": [
    "check(aggregate_mode('rutube_video_id'))"
   ]
  },
  {
   "cell_type": "code",
   "execution_count": 102,
   "id": "9da6b66b",
   "metadata": {},
   "outputs": [
    {
     "name": "stdout",
     "output_type": "stream",
     "text": [
      "Weighted F1 = 0.1914 \tAccuracy = 0.4967 \tFinal Score = 0.2830\n"
     ]
    }
   ],
   "source": [
    "check(aggregate_mode('timezone'))"
   ]
  },
  {
   "cell_type": "code",
   "execution_count": 103,
   "id": "63d86f33",
   "metadata": {},
   "outputs": [
    {
     "name": "stdout",
     "output_type": "stream",
     "text": [
      "Weighted F1 = 0.1989 \tAccuracy = 0.4971 \tFinal Score = 0.2884\n"
     ]
    }
   ],
   "source": [
    "check(aggregate_mode('region'))"
   ]
  },
  {
   "cell_type": "code",
   "execution_count": 105,
   "id": "f10773e3",
   "metadata": {},
   "outputs": [
    {
     "name": "stdout",
     "output_type": "stream",
     "text": [
      "Weighted F1 = 0.1914 \tAccuracy = 0.4967 \tFinal Score = 0.2830\n"
     ]
    }
   ],
   "source": [
    "check(aggregate_mode('ua_device_type'))"
   ]
  },
  {
   "cell_type": "code",
   "execution_count": 107,
   "id": "87a2a9e0",
   "metadata": {},
   "outputs": [
    {
     "name": "stdout",
     "output_type": "stream",
     "text": [
      "Weighted F1 = 0.1914 \tAccuracy = 0.4967 \tFinal Score = 0.2830\n"
     ]
    }
   ],
   "source": [
    "check(aggregate_mode('ua_client_type'))"
   ]
  },
  {
   "cell_type": "code",
   "execution_count": 108,
   "id": "79fc7e8f",
   "metadata": {},
   "outputs": [
    {
     "name": "stdout",
     "output_type": "stream",
     "text": [
      "Weighted F1 = 0.2523 \tAccuracy = 0.4990 \tFinal Score = 0.3263\n"
     ]
    }
   ],
   "source": [
    "check(aggregate_mode('ua_os'))"
   ]
  },
  {
   "cell_type": "code",
   "execution_count": 109,
   "id": "3716ce13",
   "metadata": {},
   "outputs": [
    {
     "name": "stdout",
     "output_type": "stream",
     "text": [
      "Weighted F1 = 0.2458 \tAccuracy = 0.5278 \tFinal Score = 0.3304\n"
     ]
    }
   ],
   "source": [
    "check(aggregate_mode('ua_client_name'))"
   ]
  },
  {
   "cell_type": "code",
   "execution_count": 111,
   "id": "0c338910",
   "metadata": {},
   "outputs": [
    {
     "name": "stdout",
     "output_type": "stream",
     "text": [
      "Weighted F1 = 0.1914 \tAccuracy = 0.4967 \tFinal Score = 0.2830\n"
     ]
    }
   ],
   "source": [
    "check(aggregate_mode('weekday'))"
   ]
  },
  {
   "cell_type": "code",
   "execution_count": 112,
   "id": "4095ca3b",
   "metadata": {},
   "outputs": [
    {
     "name": "stdout",
     "output_type": "stream",
     "text": [
      "Weighted F1 = 0.1914 \tAccuracy = 0.4967 \tFinal Score = 0.2830\n"
     ]
    }
   ],
   "source": [
    "check(aggregate_mode('part of day'))"
   ]
  },
  {
   "cell_type": "markdown",
   "id": "c053a42b",
   "metadata": {},
   "source": [
    "categorial by mode\n",
    "\n",
    "- yes: rutube_video_id, category, author_id, \n",
    "\n",
    "- mb: ua_os, ua_client_name, age stds, watchtime, watched percent, novelty\n",
    "\n",
    "- no: ua_client_type, ua_device_type, timezone, region, weekday, part of day"
   ]
  },
  {
   "cell_type": "markdown",
   "id": "23ec21f9",
   "metadata": {},
   "source": [
    "# Categorial features"
   ]
  },
  {
   "cell_type": "code",
   "execution_count": 75,
   "id": "3aed424e",
   "metadata": {},
   "outputs": [],
   "source": [
    "def aggregate_mode_train(cat):\n",
    "    info = pd.DataFrame({'age': train_events.groupby(cat)['age'].median(), 'sex': train_events.groupby(cat)['sex'].apply(get_mode)})\n",
    "    _events = events[events['viewer_uid'].isin(TRAIN_IDS)].join(info, on=cat, how='left')\n",
    "    predicts = pd.DataFrame({\n",
    "            cat+' age': _events.groupby('viewer_uid')['age'].median(),\n",
    "            # cat+' var age': _events.groupby('viewer_uid')['age'].std(),\n",
    "            cat+' sex': _events.groupby('viewer_uid')['sex'].apply(get_mode)\n",
    "        }).loc[TRAIN_IDS]\n",
    "    predicts[cat+' age'] = predicts[cat+' age'].fillna(info['age'].median())\n",
    "    # predicts[cat+' var age'] = predicts[cat+' var age'].fillna(0)\n",
    "    predicts[cat+' sex'] = predicts[cat+' sex'].fillna(info['sex'].mode()[0])\n",
    "    return predicts\n",
    "def aggregate_mode_val(cat):\n",
    "    info = pd.DataFrame({'age': train_events.groupby(cat)['age'].median(), 'sex': train_events.groupby(cat)['sex'].apply(get_mode)})\n",
    "    _events = events[events['viewer_uid'].isin(VAL_IDS)].join(info, on=cat, how='left')\n",
    "    predicts = pd.DataFrame({\n",
    "            cat+' age': _events.groupby('viewer_uid')['age'].median(),\n",
    "            # cat+' var age': _events.groupby('viewer_uid')['age'].std(),\n",
    "            cat+' sex': _events.groupby('viewer_uid')['sex'].apply(get_mode)\n",
    "        }).loc[VAL_IDS]\n",
    "    predicts[cat+' age'] = predicts[cat+' age'].fillna(info['age'].median())\n",
    "    # predicts[cat+' var age'] = predicts[cat+' var age'].fillna(0)\n",
    "    predicts[cat+' sex'] = predicts[cat+' sex'].fillna(info['sex'].mode()[0])\n",
    "    return predicts"
   ]
  },
  {
   "cell_type": "code",
   "execution_count": 168,
   "id": "ecb37158",
   "metadata": {},
   "outputs": [
    {
     "name": "stdout",
     "output_type": "stream",
     "text": [
      "Weighted F1 = 0.4153 \tAccuracy = 0.7421 \tFinal Score = 0.5134\n"
     ]
    }
   ],
   "source": [
    "X_tr = pd.concat((\n",
    "    aggregate_mode_train('cluster_id'),\n",
    "    aggregate_mode_train('rutube_video_id'),\n",
    "    aggregate_mode_train('category'),\n",
    "    aggregate_mode_train('author_id'),\n",
    "    aggregate_mode_train('ua_os'),\n",
    "    aggregate_mode_train('ua_client_name'),\n",
    "    ), axis=1)\n",
    "X_vl = pd.concat((\n",
    "    aggregate_mode_val('cluster_id'),\n",
    "    aggregate_mode_val('rutube_video_id'),\n",
    "    aggregate_mode_val('category'),\n",
    "    aggregate_mode_val('author_id'),\n",
    "    aggregate_mode_val('ua_os'),\n",
    "    aggregate_mode_val('ua_client_name'),\n",
    "    ), axis=1)\n",
    "y_tr = targets.set_index('viewer_uid')[['sex','age']].loc[TRAIN_IDS]\n",
    "lsex = LabelEncoder().fit(y_tr['sex'])\n",
    "y_tr['sex'] = lsex.transform(y_tr['sex'])\n",
    "y_tr['age_class'] = pd.cut(y_tr['age'], bins=[0, 20, 30, 40, 60], labels=[0, 1, 2, 3])\n",
    "\n",
    "cf = [c+' sex' for c in ['cluster_id', 'rutube_video_id', 'category', 'author_id', 'ua_client_name', 'ua_os']] # + ['ua_client_type', 'ua_device_type']\n",
    "model_sex = CatBoostClassifier(verbose=False, cat_features=cf).fit(X_tr, y_tr['sex'])\n",
    "model_age = CatBoostRegressor(verbose=False, cat_features=cf).fit(X_tr, y_tr['age'])\n",
    "check(pd.DataFrame({'sex': lsex.inverse_transform(model_sex.predict(X_vl)), 'age': model_age.predict(X_vl), 'viewer_uid': X_vl.index}))"
   ]
  },
  {
   "cell_type": "code",
   "execution_count": 169,
   "id": "50f94e3e",
   "metadata": {},
   "outputs": [
    {
     "name": "stdout",
     "output_type": "stream",
     "text": [
      "Weighted F1 = 0.4557 \tAccuracy = 0.7421 \tFinal Score = 0.5416\n"
     ]
    }
   ],
   "source": [
    "model_agec = CatBoostClassifier(1000, verbose=False, cat_features=cf).fit(X_tr, y_tr['age_class'])\n",
    "check(pd.DataFrame({'sex': lsex.inverse_transform(model_sex.predict(X_vl)), 'age_class': model_agec.predict(X_vl)[:,0], 'viewer_uid': X_vl.index}), False)"
   ]
  },
  {
   "cell_type": "markdown",
   "id": "1c5c101c",
   "metadata": {},
   "source": [
    "# Сontegeous features"
   ]
  },
  {
   "cell_type": "code",
   "execution_count": 70,
   "id": "6b00671c",
   "metadata": {},
   "outputs": [],
   "source": [
    "wt = pd.Series(np.log(data.total_watchtime)).groupby(data['viewer_uid']).median()\n",
    "wt.name = 'watchtime'\n",
    "d = data.merge(video, 'left')\n",
    "perc = pd.Series(-np.log((d.total_watchtime/d.duration))).groupby(data['viewer_uid']).median()\n",
    "perc.name = 'watched_video_percent'\n",
    "info = pd.to_datetime(data.event_timestamp).groupby(data.rutube_video_id).min()\n",
    "dtnew = (pd.to_datetime(data.event_timestamp) - info.loc[data.rutube_video_id].reset_index(drop=True)).groupby(data['viewer_uid']).median()\n",
    "dtnew.name = 'novelty_following'\n",
    "md = d.duration.groupby(data['viewer_uid']).median()\n",
    "md.name = 'video_duration'\n",
    "data_sorted = data.sort_values(['viewer_uid','event_timestamp'])\n",
    "mfr = pd.to_datetime(data_sorted.event_timestamp).diff(1).groupby(data_sorted.viewer_uid).median().dt.total_seconds().clip(0)\n",
    "mfr.name = 'pause_duration'\n",
    "\n",
    "ndf = d[['category', 'ua_os', 'region', 'part of day']].groupby(data['viewer_uid']).nunique()\n",
    "ndf.columns = ['n_'+c for c in ndf.columns]\n",
    "ndf['n'] = d['category'].groupby(data['viewer_uid']).count()\n",
    "tf = d[['weekday', 'part of day']].groupby(data['viewer_uid']).median()"
   ]
  },
  {
   "cell_type": "code",
   "execution_count": 58,
   "id": "75913ede",
   "metadata": {},
   "outputs": [
    {
     "name": "stdout",
     "output_type": "stream",
     "text": [
      "Weighted F1 = 0.2278 \tAccuracy = 0.6384 \tFinal Score = 0.3509\n"
     ]
    }
   ],
   "source": [
    "X_tr = pd.concat((\n",
    "    # wt.loc[TRAIN_IDS],\n",
    "    # perc.loc[TRAIN_IDS],\n",
    "    # dtnew.loc[TRAIN_IDS],\n",
    "    # md.loc[TRAIN_IDS],\n",
    "    # mfr.loc[TRAIN_IDS],\n",
    "    ndf.loc[TRAIN_IDS],\n",
    "    # tf.loc[TRAIN_IDS]\n",
    "    ), axis=1)\n",
    "X_vl = pd.concat((\n",
    "    # wt.loc[VAL_IDS],\n",
    "    # perc.loc[VAL_IDS],\n",
    "    # dtnew.loc[VAL_IDS],\n",
    "    # md.loc[VAL_IDS],\n",
    "    # mfr.loc[VAL_IDS],\n",
    "    ndf.loc[VAL_IDS],\n",
    "    # tf.loc[VAL_IDS]\n",
    "    ), axis=1)\n",
    "y_tr = targets.set_index('viewer_uid')[['sex','age']].loc[TRAIN_IDS]\n",
    "lsex = LabelEncoder().fit(y_tr['sex'])\n",
    "y_tr['sex'] = lsex.transform(y_tr['sex'])\n",
    "y_tr['age_class'] = pd.cut(y_tr['age'], bins=[0, 20, 30, 40, 60], labels=[0, 1, 2, 3])\n",
    "\n",
    "model_sex = CatBoostClassifier(verbose=False).fit(X_tr, y_tr['sex'])\n",
    "model_age = CatBoostRegressor(verbose=False).fit(X_tr, y_tr['age'])\n",
    "check(pd.DataFrame({'sex': lsex.inverse_transform(model_sex.predict(X_vl)), 'age': model_age.predict(X_vl), 'viewer_uid': X_vl.index}))"
   ]
  },
  {
   "cell_type": "code",
   "execution_count": 59,
   "id": "0a3134e0",
   "metadata": {},
   "outputs": [
    {
     "name": "stdout",
     "output_type": "stream",
     "text": [
      "Weighted F1 = 0.3637 \tAccuracy = 0.6384 \tFinal Score = 0.4461\n"
     ]
    }
   ],
   "source": [
    "model_agec = CatBoostClassifier(1000, verbose=False).fit(X_tr, y_tr['age_class'])\n",
    "check(pd.DataFrame({'sex': lsex.inverse_transform(model_sex.predict(X_vl)), 'age_class': model_agec.predict(X_vl)[:,0], 'viewer_uid': X_vl.index}), False)"
   ]
  },
  {
   "cell_type": "code",
   "execution_count": 60,
   "id": "6a0b46ea",
   "metadata": {},
   "outputs": [
    {
     "data": {
      "text/html": [
       "<div>\n",
       "<style scoped>\n",
       "    .dataframe tbody tr th:only-of-type {\n",
       "        vertical-align: middle;\n",
       "    }\n",
       "\n",
       "    .dataframe tbody tr th {\n",
       "        vertical-align: top;\n",
       "    }\n",
       "\n",
       "    .dataframe thead th {\n",
       "        text-align: right;\n",
       "    }\n",
       "</style>\n",
       "<table border=\"1\" class=\"dataframe\">\n",
       "  <thead>\n",
       "    <tr style=\"text-align: right;\">\n",
       "      <th></th>\n",
       "      <th>sex</th>\n",
       "      <th>age</th>\n",
       "    </tr>\n",
       "  </thead>\n",
       "  <tbody>\n",
       "    <tr>\n",
       "      <th>category</th>\n",
       "      <td>38.643378</td>\n",
       "      <td>28.016574</td>\n",
       "    </tr>\n",
       "    <tr>\n",
       "      <th>part of day</th>\n",
       "      <td>32.539584</td>\n",
       "      <td>21.592898</td>\n",
       "    </tr>\n",
       "    <tr>\n",
       "      <th>region</th>\n",
       "      <td>7.335443</td>\n",
       "      <td>12.363995</td>\n",
       "    </tr>\n",
       "    <tr>\n",
       "      <th>ua_os</th>\n",
       "      <td>4.807544</td>\n",
       "      <td>14.671655</td>\n",
       "    </tr>\n",
       "    <tr>\n",
       "      <th>ua_device_type</th>\n",
       "      <td>6.326539</td>\n",
       "      <td>10.649798</td>\n",
       "    </tr>\n",
       "    <tr>\n",
       "      <th>ua_client_name</th>\n",
       "      <td>5.201784</td>\n",
       "      <td>8.380728</td>\n",
       "    </tr>\n",
       "    <tr>\n",
       "      <th>ua_client_type</th>\n",
       "      <td>5.145728</td>\n",
       "      <td>4.324351</td>\n",
       "    </tr>\n",
       "  </tbody>\n",
       "</table>\n",
       "</div>"
      ],
      "text/plain": [
       "                      sex        age\n",
       "category        38.643378  28.016574\n",
       "part of day     32.539584  21.592898\n",
       "region           7.335443  12.363995\n",
       "ua_os            4.807544  14.671655\n",
       "ua_device_type   6.326539  10.649798\n",
       "ua_client_name   5.201784   8.380728\n",
       "ua_client_type   5.145728   4.324351"
      ]
     },
     "execution_count": 60,
     "metadata": {},
     "output_type": "execute_result"
    }
   ],
   "source": [
    "imps = pd.DataFrame({'sex':model_sex.get_feature_importance(), 'age':model_agec.get_feature_importance()},index=X_vl.columns)\n",
    "imps.loc[imps.sum(1).sort_values().index[::-1]]"
   ]
  },
  {
   "cell_type": "markdown",
   "id": "aaa0a542",
   "metadata": {},
   "source": [
    "# Combined features"
   ]
  },
  {
   "cell_type": "code",
   "execution_count": 76,
   "id": "95edce28",
   "metadata": {},
   "outputs": [],
   "source": [
    "X_tr = pd.concat((\n",
    "    aggregate_mode_train('cluster_id'),\n",
    "    aggregate_mode_train('rutube_video_id'),\n",
    "    aggregate_mode_train('category'),\n",
    "    aggregate_mode_train('author_id'),\n",
    "    aggregate_mode_train('ua_os'),\n",
    "    aggregate_mode_train('ua_client_name'),\n",
    "    wt.loc[TRAIN_IDS], perc.loc[TRAIN_IDS], dtnew.loc[TRAIN_IDS], md.loc[TRAIN_IDS], mfr.loc[TRAIN_IDS],\n",
    "    ndf.loc[TRAIN_IDS], tf.loc[TRAIN_IDS]\n",
    "    ), axis=1)\n",
    "X_vl = pd.concat((\n",
    "    aggregate_mode_val('cluster_id'),\n",
    "    aggregate_mode_val('rutube_video_id'),\n",
    "    aggregate_mode_val('category'),\n",
    "    aggregate_mode_val('author_id'),\n",
    "    aggregate_mode_val('ua_os'),\n",
    "    aggregate_mode_val('ua_client_name'),\n",
    "    wt.loc[VAL_IDS], perc.loc[VAL_IDS], dtnew.loc[VAL_IDS], md.loc[VAL_IDS], mfr.loc[VAL_IDS],\n",
    "    ndf.loc[VAL_IDS], tf.loc[VAL_IDS]\n",
    "    ), axis=1)\n",
    "\n",
    "y_tr = targets.set_index('viewer_uid')[['sex','age']].loc[TRAIN_IDS]\n",
    "lsex = LabelEncoder().fit(y_tr['sex'])\n",
    "y_tr['sex'] = lsex.transform(y_tr['sex'])\n",
    "y_tr['age_class'] = pd.cut(y_tr['age'], bins=[0, 20, 30, 40, 60], labels=[0, 1, 2, 3])\n",
    "\n",
    "y_vl = targets.set_index('viewer_uid')[['sex','age']].loc[VAL_IDS]\n",
    "y_vl['sex'] = lsex.transform(y_vl['sex'])\n",
    "\n",
    "cf = [c+' sex' for c in ['cluster_id', 'rutube_video_id', 'category', 'author_id', 'ua_client_name', 'ua_os']]\n",
    "    # + ['ua_client_type', 'ua_device_type']\n",
    "for f in cf:\n",
    "    X_tr[f] = lsex.transform(X_tr[f])\n",
    "    X_vl[f] = lsex.transform(X_vl[f])\n",
    "X_tr['novelty_following'] = X_tr['novelty_following'].dt.total_seconds()\n",
    "X_vl['novelty_following'] = X_vl['novelty_following'].dt.total_seconds()\n"
   ]
  },
  {
   "cell_type": "code",
   "execution_count": 35,
   "id": "fe4d0167",
   "metadata": {},
   "outputs": [
    {
     "name": "stdout",
     "output_type": "stream",
     "text": [
      "Weighted F1 = 0.4192 \tAccuracy = 0.7443 \tFinal Score = 0.5167\n"
     ]
    }
   ],
   "source": [
    "model_sex = CatBoostClassifier(1000, verbose=False, cat_features=cf).fit(X_tr, y_tr['sex'])\n",
    "model_age = CatBoostRegressor(1000, verbose=False, cat_features=cf).fit(X_tr, y_tr['age'])\n",
    "check(pd.DataFrame({'sex': lsex.inverse_transform(model_sex.predict(X_vl)), 'age': model_age.predict(X_vl), 'viewer_uid': X_vl.index}))"
   ]
  },
  {
   "cell_type": "code",
   "execution_count": 77,
   "id": "c72851d8",
   "metadata": {},
   "outputs": [
    {
     "name": "stdout",
     "output_type": "stream",
     "text": [
      "Weighted F1 = 0.4602 \tAccuracy = 0.7444 \tFinal Score = 0.5454\n"
     ]
    }
   ],
   "source": [
    "model_sex = CatBoostClassifier(1000, verbose=False, cat_features=cf).fit(X_tr, y_tr['sex'])\n",
    "model_agec = CatBoostClassifier(1000, verbose=False, cat_features=cf).fit(X_tr, y_tr['age_class'])\n",
    "check(pd.DataFrame({'sex': lsex.inverse_transform(model_sex.predict(X_vl)), 'age_class': model_agec.predict(X_vl)[:,0], 'viewer_uid': X_vl.index}), False)"
   ]
  },
  {
   "cell_type": "code",
   "execution_count": 64,
   "id": "3fb88b97",
   "metadata": {},
   "outputs": [
    {
     "name": "stdout",
     "output_type": "stream",
     "text": [
      "Weighted F1 = 0.4259 \tAccuracy = 0.7195 \tFinal Score = 0.5140\n"
     ]
    }
   ],
   "source": [
    "model_sex = Pipeline([('s',StandardScaler()),('e',MLPClassifier((15,15), alpha=1e-3, max_iter=500))]).fit(X_tr, y_tr['sex'])\n",
    "model_agec = Pipeline([('s',StandardScaler()),('e',MLPClassifier((15,15), alpha=1e-3, max_iter=500))]).fit(X_tr, y_tr['age_class'])\n",
    "check(pd.DataFrame({'sex': lsex.inverse_transform(model_sex.predict(X_vl)), 'age_class': model_agec.predict(X_vl), 'viewer_uid': X_vl.index}), False)"
   ]
  },
  {
   "cell_type": "code",
   "execution_count": 31,
   "id": "239593d3",
   "metadata": {},
   "outputs": [
    {
     "name": "stdout",
     "output_type": "stream",
     "text": [
      "Weighted F1 = 0.3970 \tAccuracy = 0.7408 \tFinal Score = 0.5002\n"
     ]
    }
   ],
   "source": [
    "check(pd.DataFrame({'sex': lsex.inverse_transform(X_vl.iloc[:,3]), 'age': X_vl.iloc[:,2].values, 'viewer_uid': X_vl.index}))"
   ]
  },
  {
   "cell_type": "markdown",
   "id": "81f90230",
   "metadata": {},
   "source": [
    "# Model study"
   ]
  },
  {
   "cell_type": "code",
   "execution_count": 65,
   "id": "8fc29d47",
   "metadata": {},
   "outputs": [
    {
     "data": {
      "text/plain": [
       "Index(['cluster_id age', 'cluster_id sex', 'rutube_video_id age',\n",
       "       'rutube_video_id sex', 'category age', 'category sex', 'author_id age',\n",
       "       'author_id sex', 'ua_os age', 'ua_os sex', 'ua_client_name age',\n",
       "       'ua_client_name sex', 'watchtime', 'watched_video_percent',\n",
       "       'novelty_following', 'video_duration', 'pause_duration', 'n_category',\n",
       "       'n_ua_os', 'n_region', 'n_ua_device_type', 'n_ua_client_type',\n",
       "       'n_ua_client_name', 'n_part of day', 'weekday', 'part of day'],\n",
       "      dtype='object')"
      ]
     },
     "execution_count": 65,
     "metadata": {},
     "output_type": "execute_result"
    }
   ],
   "source": [
    "X_vl.columns"
   ]
  },
  {
   "cell_type": "code",
   "execution_count": 66,
   "id": "fb45dd24",
   "metadata": {},
   "outputs": [
    {
     "ename": "AttributeError",
     "evalue": "'Pipeline' object has no attribute 'get_feature_importance'",
     "output_type": "error",
     "traceback": [
      "\u001b[0;31m---------------------------------------------------------------------------\u001b[0m",
      "\u001b[0;31mAttributeError\u001b[0m                            Traceback (most recent call last)",
      "Input \u001b[0;32mIn [66]\u001b[0m, in \u001b[0;36m<cell line: 1>\u001b[0;34m()\u001b[0m\n\u001b[0;32m----> 1\u001b[0m imps \u001b[38;5;241m=\u001b[39m pd\u001b[38;5;241m.\u001b[39mDataFrame({\u001b[38;5;124m'\u001b[39m\u001b[38;5;124msex\u001b[39m\u001b[38;5;124m'\u001b[39m:\u001b[43mmodel_sex\u001b[49m\u001b[38;5;241;43m.\u001b[39;49m\u001b[43mget_feature_importance\u001b[49m(), \u001b[38;5;124m'\u001b[39m\u001b[38;5;124mage\u001b[39m\u001b[38;5;124m'\u001b[39m:model_agec\u001b[38;5;241m.\u001b[39mget_feature_importance()},\n\u001b[1;32m      2\u001b[0m     index\u001b[38;5;241m=\u001b[39m \u001b[38;5;66;03m#X_vl.columns)\u001b[39;00m\n\u001b[1;32m      3\u001b[0m     [\n\u001b[1;32m      4\u001b[0m         \u001b[38;5;124m'\u001b[39m\u001b[38;5;124mcluster mode age\u001b[39m\u001b[38;5;124m'\u001b[39m, \u001b[38;5;124m'\u001b[39m\u001b[38;5;124mcluster mode sex\u001b[39m\u001b[38;5;124m'\u001b[39m,\n\u001b[1;32m      5\u001b[0m         \u001b[38;5;124m'\u001b[39m\u001b[38;5;124mvideo mode age\u001b[39m\u001b[38;5;124m'\u001b[39m, \u001b[38;5;124m'\u001b[39m\u001b[38;5;124mvideo mode sex\u001b[39m\u001b[38;5;124m'\u001b[39m,\n\u001b[1;32m      6\u001b[0m         \u001b[38;5;124m'\u001b[39m\u001b[38;5;124mcategory mode age\u001b[39m\u001b[38;5;124m'\u001b[39m, \u001b[38;5;124m'\u001b[39m\u001b[38;5;124mcategory mode sex\u001b[39m\u001b[38;5;124m'\u001b[39m,\n\u001b[1;32m      7\u001b[0m         \u001b[38;5;124m'\u001b[39m\u001b[38;5;124mauthor mode age\u001b[39m\u001b[38;5;124m'\u001b[39m, \u001b[38;5;124m'\u001b[39m\u001b[38;5;124mauthor mode sex\u001b[39m\u001b[38;5;124m'\u001b[39m,\n\u001b[1;32m      8\u001b[0m         \u001b[38;5;124m'\u001b[39m\u001b[38;5;124mos mode age\u001b[39m\u001b[38;5;124m'\u001b[39m, \u001b[38;5;124m'\u001b[39m\u001b[38;5;124mos mode sex\u001b[39m\u001b[38;5;124m'\u001b[39m,\n\u001b[1;32m      9\u001b[0m         \u001b[38;5;124m'\u001b[39m\u001b[38;5;124mclient mode age\u001b[39m\u001b[38;5;124m'\u001b[39m, \u001b[38;5;124m'\u001b[39m\u001b[38;5;124mclient mode sex\u001b[39m\u001b[38;5;124m'\u001b[39m,\n\u001b[1;32m     10\u001b[0m         \u001b[38;5;124m'\u001b[39m\u001b[38;5;124mwatched time\u001b[39m\u001b[38;5;124m'\u001b[39m, \u001b[38;5;124m'\u001b[39m\u001b[38;5;124mwatched precent\u001b[39m\u001b[38;5;124m'\u001b[39m,\n\u001b[1;32m     11\u001b[0m         \u001b[38;5;124m'\u001b[39m\u001b[38;5;124mnovelty checking\u001b[39m\u001b[38;5;124m'\u001b[39m, \u001b[38;5;124m'\u001b[39m\u001b[38;5;124mvideo duration\u001b[39m\u001b[38;5;124m'\u001b[39m, \u001b[38;5;124m'\u001b[39m\u001b[38;5;124mwatching frequency\u001b[39m\u001b[38;5;124m'\u001b[39m,\n\u001b[1;32m     12\u001b[0m         \u001b[38;5;124m'\u001b[39m\u001b[38;5;124mnumber of categories\u001b[39m\u001b[38;5;124m'\u001b[39m, \u001b[38;5;124m'\u001b[39m\u001b[38;5;124mnumber of os\u001b[39m\u001b[38;5;124m'\u001b[39m, \u001b[38;5;124m'\u001b[39m\u001b[38;5;124mn_region\u001b[39m\u001b[38;5;124m'\u001b[39m, \u001b[38;5;124m'\u001b[39m\u001b[38;5;124mn_ua_device_type\u001b[39m\u001b[38;5;124m'\u001b[39m, \u001b[38;5;124m'\u001b[39m\u001b[38;5;124mn_ua_client_type\u001b[39m\u001b[38;5;124m'\u001b[39m,\n\u001b[1;32m     13\u001b[0m        \u001b[38;5;124m'\u001b[39m\u001b[38;5;124mn_ua_client_name\u001b[39m\u001b[38;5;124m'\u001b[39m, \u001b[38;5;124m'\u001b[39m\u001b[38;5;124mn_part of day\u001b[39m\u001b[38;5;124m'\u001b[39m,\n\u001b[1;32m     14\u001b[0m         \u001b[38;5;124m'\u001b[39m\u001b[38;5;124mweekday\u001b[39m\u001b[38;5;124m'\u001b[39m, \u001b[38;5;124m'\u001b[39m\u001b[38;5;124mdaytime\u001b[39m\u001b[38;5;124m'\u001b[39m\n\u001b[1;32m     15\u001b[0m     ])\n\u001b[1;32m     16\u001b[0m imps\u001b[38;5;241m.\u001b[39mloc[imps\u001b[38;5;241m.\u001b[39msum(\u001b[38;5;241m1\u001b[39m)\u001b[38;5;241m.\u001b[39msort_values()\u001b[38;5;241m.\u001b[39mindex[::\u001b[38;5;241m-\u001b[39m\u001b[38;5;241m1\u001b[39m]]\n",
      "\u001b[0;31mAttributeError\u001b[0m: 'Pipeline' object has no attribute 'get_feature_importance'"
     ]
    }
   ],
   "source": [
    "imps = pd.DataFrame({'sex':model_sex.get_feature_importance(), 'age':model_agec.get_feature_importance()},\n",
    "    index= #X_vl.columns)\n",
    "    [\n",
    "        'cluster mode age', 'cluster mode sex',\n",
    "        'video mode age', 'video mode sex',\n",
    "        'category mode age', 'category mode sex',\n",
    "        'author mode age', 'author mode sex',\n",
    "        'os mode age', 'os mode sex',\n",
    "        'client mode age', 'client mode sex',\n",
    "        'watched time', 'watched precent',\n",
    "        'novelty checking', 'video duration', 'watching frequency',\n",
    "        'number of categories', 'number of os', 'n_region', 'n_ua_device_type', 'n_ua_client_type',\n",
    "       'n_ua_client_name', 'n_part of day',\n",
    "        'weekday', 'daytime'\n",
    "    ])\n",
    "imps.loc[imps.sum(1).sort_values().index[::-1]]"
   ]
  },
  {
   "cell_type": "code",
   "execution_count": 38,
   "id": "fc702945",
   "metadata": {},
   "outputs": [
    {
     "data": {
      "image/png": "[encoded data removed]",
      "text/plain": [
       "<Figure size 1000x600 with 2 Axes>"
      ]
     },
     "metadata": {},
     "output_type": "display_data"
    }
   ],
   "source": [
    "import seaborn as sns\n",
    "import matplotlib.pyplot as plt\n",
    "\n",
    "df = imps.loc[imps.sum(1).sort_values().index[::-1]].reset_index()\n",
    "plt.figure(figsize=(10,6))\n",
    "plt.subplot(121)\n",
    "sns.barplot(data=df, x='sex', y='index')\n",
    "plt.title('sex')\n",
    "plt.ylabel('')\n",
    "plt.xlabel('')\n",
    "plt.subplot(122)\n",
    "plt.title('age')\n",
    "sns.barplot(data=df, x='age', y='index')\n",
    "plt.ylabel('')\n",
    "plt.xlabel('')\n",
    "plt.yticks([],[])\n",
    "plt.tight_layout()"
   ]
  },
  {
   "cell_type": "code",
   "execution_count": 72,
   "id": "23110bb7",
   "metadata": {},
   "outputs": [
    {
     "data": {
      "image/png": "[encoded data removed]",
      "text/plain": [
       "<Figure size 640x480 with 1 Axes>"
      ]
     },
     "metadata": {},
     "output_type": "display_data"
    }
   ],
   "source": [
    "plt.hist(targets.age, bins=targets.age.nunique(), density=True)\n",
    "plt.xlabel('age')\n",
    "plt.show()"
   ]
  },
  {
   "cell_type": "code",
   "execution_count": 186,
   "id": "1e8c7bf8",
   "metadata": {},
   "outputs": [
    {
     "data": {
      "text/plain": [
       "Text(0, 0.5, 'score')"
      ]
     },
     "execution_count": 186,
     "metadata": {},
     "output_type": "execute_result"
    },
    {
     "data": {
      "image/png": "[encoded data removed]",
      "text/plain": [
       "<Figure size 640x480 with 1 Axes>"
      ]
     },
     "metadata": {},
     "output_type": "display_data"
    }
   ],
   "source": [
    "# train regressor\n",
    "def check_plot(predicts):\n",
    "    if 'age_class' not in predicts.columns:\n",
    "        age_class_bins = [0, 20, 30, 40, 60] # Возрастные категории пользователей, подробнее в файле с описанием данных\n",
    "        predicts['age_class'] = pd.cut(predicts['age'], bins=age_class_bins, labels=[0, 1, 2, 3])\n",
    "    predicts = predicts.sort_values(by='viewer_uid').reset_index(drop=True)\n",
    "\n",
    "    # counts = data.groupby('viewer_uid').viewer_uid.count().sort_index().reset_index(drop=True)\n",
    "    counts = train_targets.age\n",
    "    xs = sorted(counts.unique().tolist())\n",
    "    ys = []\n",
    "    err = []\n",
    "    for c in xs:\n",
    "        m = counts==c\n",
    "        f1_weighted = f1_score(train_targets['age_class'].loc[m], predicts['age_class'].loc[m], average='weighted')\n",
    "        accuracy = accuracy_score(train_targets['sex'].loc[m], predicts['sex'].loc[m])\n",
    "        ys.append(0.7 * f1_weighted + 0.3 * accuracy)\n",
    "        err.append(1/(m.sum())**0.5)\n",
    "    return np.array(xs), np.array(ys), np.array(err)\n",
    "\n",
    "x, y, e = check_plot(pd.DataFrame({'sex': lsex.inverse_transform(model_sex.predict(X_tr)), 'age': model_age.predict(X_tr), 'viewer_uid': X_tr.index}))\n",
    "\n",
    "sns.lineplot(x=x, y=y)\n",
    "sns.lineplot(x=x, y=(y+e).clip(0,1), lw=0)\n",
    "line = sns.lineplot(x=x, y=(y-e).clip(0,1), lw=0).get_lines()\n",
    "plt.fill_between(line[0].get_xdata(), line[1].get_ydata(), line[2].get_ydata(), color='tab:blue', alpha=.5)\n",
    "# plt.xscale('log')\n",
    "plt.xlabel('возраст')\n",
    "plt.ylabel('score')"
   ]
  },
  {
   "cell_type": "code",
   "execution_count": 185,
   "id": "2a04f276",
   "metadata": {},
   "outputs": [
    {
     "data": {
      "text/plain": [
       "Text(0, 0.5, 'score')"
      ]
     },
     "execution_count": 185,
     "metadata": {},
     "output_type": "execute_result"
    },
    {
     "data": {
      "image/png": "[encoded data removed]",
      "text/plain": [
       "<Figure size 640x480 with 1 Axes>"
      ]
     },
     "metadata": {},
     "output_type": "display_data"
    }
   ],
   "source": [
    "# train classifier\n",
    "def check_plot(predicts):\n",
    "    if 'age_class' not in predicts.columns:\n",
    "        age_class_bins = [0, 20, 30, 40, 60] # Возрастные категории пользователей, подробнее в файле с описанием данных\n",
    "        predicts['age_class'] = pd.cut(predicts['age'], bins=age_class_bins, labels=[0, 1, 2, 3])\n",
    "    predicts = predicts.sort_values(by='viewer_uid').reset_index(drop=True)\n",
    "\n",
    "    # counts = data.groupby('viewer_uid').viewer_uid.count().sort_index().reset_index(drop=True)\n",
    "    counts = train_targets.age\n",
    "    xs = sorted(counts.unique().tolist())\n",
    "    ys = []\n",
    "    err = []\n",
    "    for c in xs:\n",
    "        m = counts==c\n",
    "        f1_weighted = f1_score(train_targets['age_class'].loc[m], predicts['age_class'].loc[m], average='weighted')\n",
    "        accuracy = accuracy_score(train_targets['sex'].loc[m], predicts['sex'].loc[m])\n",
    "        ys.append(0.7 * f1_weighted + 0.3 * accuracy)\n",
    "        err.append(1/(m.sum())**0.5)\n",
    "    return np.array(xs), np.array(ys), np.array(err)\n",
    "\n",
    "x, y, e = check_plot(pd.DataFrame({'sex': lsex.inverse_transform(model_sex.predict(X_tr)), 'age_class': model_agec.predict(X_tr)[:,0], 'viewer_uid': X_tr.index}))\n",
    "\n",
    "sns.lineplot(x=x, y=y)\n",
    "sns.lineplot(x=x, y=(y+e).clip(0,1), lw=0)\n",
    "line = sns.lineplot(x=x, y=(y-e).clip(0,1), lw=0).get_lines()\n",
    "plt.fill_between(line[0].get_xdata(), line[1].get_ydata(), line[2].get_ydata(), color='tab:blue', alpha=.5)\n",
    "# plt.xscale('log')\n",
    "plt.xlabel('возраст')\n",
    "plt.ylabel('score')"
   ]
  },
  {
   "cell_type": "code",
   "execution_count": 208,
   "id": "b8149e86",
   "metadata": {},
   "outputs": [
    {
     "data": {
      "text/plain": [
       "Text(0, 0.5, 'score')"
      ]
     },
     "execution_count": 208,
     "metadata": {},
     "output_type": "execute_result"
    },
    {
     "data": {
      "image/png": "[encoded data removed]",
      "text/plain": [
       "<Figure size 640x480 with 1 Axes>"
      ]
     },
     "metadata": {},
     "output_type": "display_data"
    }
   ],
   "source": [
    "def check_plot(predicts):\n",
    "    if 'age_class' not in predicts.columns:\n",
    "        age_class_bins = [0, 20, 30, 40, 60] # Возрастные категории пользователей, подробнее в файле с описанием данных\n",
    "        predicts['age_class'] = pd.cut(predicts['age'], bins=age_class_bins, labels=[0, 1, 2, 3])\n",
    "    predicts = predicts.sort_values(by='viewer_uid').reset_index(drop=True)\n",
    "\n",
    "    # counts = data.groupby('viewer_uid').viewer_uid.count().sort_index().reset_index(drop=True)\n",
    "    counts = val_targets.age\n",
    "    xs = sorted(counts.unique().tolist())\n",
    "    ys = []\n",
    "    err = []\n",
    "    for c in xs:\n",
    "        m = counts==c\n",
    "        f1_weighted = f1_score(val_targets['age_class'].loc[m], predicts['age_class'].loc[m], average='weighted')\n",
    "        accuracy = accuracy_score(val_targets['sex'].loc[m], predicts['sex'].loc[m])\n",
    "        ys.append(0.7 * f1_weighted + 0.3 * accuracy)\n",
    "        err.append(1/(m.sum())**0.5)\n",
    "    return np.array(xs), np.array(ys), np.array(err)\n",
    "\n",
    "x, y, e = check_plot(pd.DataFrame({'sex': lsex.inverse_transform(model_sex.predict(X_vl)), 'age_class': model_agec.predict(X_vl)[:,0], 'viewer_uid': X_vl.index}))\n",
    "\n",
    "sns.lineplot(x=x, y=y)\n",
    "sns.lineplot(x=x, y=(y+e).clip(0,1), lw=0)\n",
    "line = sns.lineplot(x=x, y=(y-e).clip(0,1), lw=0).get_lines()\n",
    "plt.fill_between(line[0].get_xdata(), line[1].get_ydata(), line[2].get_ydata(), color='tab:blue', alpha=.5)\n",
    "# plt.xscale('log')\n",
    "plt.xlabel('возраст')\n",
    "plt.ylabel('score')"
   ]
  },
  {
   "cell_type": "code",
   "execution_count": 209,
   "id": "ff4ed04d",
   "metadata": {},
   "outputs": [
    {
     "name": "stderr",
     "output_type": "stream",
     "text": [
      "/Library/Frameworks/Python.framework/Versions/3.10/lib/python3.10/site-packages/numpy/lib/function_base.py:518: RuntimeWarning: Mean of empty slice.\n",
      "  avg = a.mean(axis, **keepdims_kw)\n",
      "/Library/Frameworks/Python.framework/Versions/3.10/lib/python3.10/site-packages/numpy/core/_methods.py:190: RuntimeWarning: invalid value encountered in double_scalars\n",
      "  ret = ret.dtype.type(ret / rcount)\n",
      "/Library/Frameworks/Python.framework/Versions/3.10/lib/python3.10/site-packages/numpy/lib/function_base.py:518: RuntimeWarning: Mean of empty slice.\n",
      "  avg = a.mean(axis, **keepdims_kw)\n",
      "/Library/Frameworks/Python.framework/Versions/3.10/lib/python3.10/site-packages/numpy/core/_methods.py:190: RuntimeWarning: invalid value encountered in double_scalars\n",
      "  ret = ret.dtype.type(ret / rcount)\n",
      "/Library/Frameworks/Python.framework/Versions/3.10/lib/python3.10/site-packages/numpy/lib/function_base.py:518: RuntimeWarning: Mean of empty slice.\n",
      "  avg = a.mean(axis, **keepdims_kw)\n",
      "/Library/Frameworks/Python.framework/Versions/3.10/lib/python3.10/site-packages/numpy/core/_methods.py:190: RuntimeWarning: invalid value encountered in double_scalars\n",
      "  ret = ret.dtype.type(ret / rcount)\n",
      "/Library/Frameworks/Python.framework/Versions/3.10/lib/python3.10/site-packages/numpy/lib/function_base.py:518: RuntimeWarning: Mean of empty slice.\n",
      "  avg = a.mean(axis, **keepdims_kw)\n",
      "/Library/Frameworks/Python.framework/Versions/3.10/lib/python3.10/site-packages/numpy/core/_methods.py:190: RuntimeWarning: invalid value encountered in double_scalars\n",
      "  ret = ret.dtype.type(ret / rcount)\n",
      "/Library/Frameworks/Python.framework/Versions/3.10/lib/python3.10/site-packages/numpy/lib/function_base.py:518: RuntimeWarning: Mean of empty slice.\n",
      "  avg = a.mean(axis, **keepdims_kw)\n",
      "/Library/Frameworks/Python.framework/Versions/3.10/lib/python3.10/site-packages/numpy/core/_methods.py:190: RuntimeWarning: invalid value encountered in double_scalars\n",
      "  ret = ret.dtype.type(ret / rcount)\n",
      "/Library/Frameworks/Python.framework/Versions/3.10/lib/python3.10/site-packages/numpy/lib/function_base.py:518: RuntimeWarning: Mean of empty slice.\n",
      "  avg = a.mean(axis, **keepdims_kw)\n",
      "/Library/Frameworks/Python.framework/Versions/3.10/lib/python3.10/site-packages/numpy/core/_methods.py:190: RuntimeWarning: invalid value encountered in double_scalars\n",
      "  ret = ret.dtype.type(ret / rcount)\n",
      "/Library/Frameworks/Python.framework/Versions/3.10/lib/python3.10/site-packages/numpy/lib/function_base.py:518: RuntimeWarning: Mean of empty slice.\n",
      "  avg = a.mean(axis, **keepdims_kw)\n",
      "/Library/Frameworks/Python.framework/Versions/3.10/lib/python3.10/site-packages/numpy/core/_methods.py:190: RuntimeWarning: invalid value encountered in double_scalars\n",
      "  ret = ret.dtype.type(ret / rcount)\n",
      "/Library/Frameworks/Python.framework/Versions/3.10/lib/python3.10/site-packages/numpy/lib/function_base.py:518: RuntimeWarning: Mean of empty slice.\n",
      "  avg = a.mean(axis, **keepdims_kw)\n",
      "/Library/Frameworks/Python.framework/Versions/3.10/lib/python3.10/site-packages/numpy/core/_methods.py:190: RuntimeWarning: invalid value encountered in double_scalars\n",
      "  ret = ret.dtype.type(ret / rcount)\n",
      "/Library/Frameworks/Python.framework/Versions/3.10/lib/python3.10/site-packages/numpy/lib/function_base.py:518: RuntimeWarning: Mean of empty slice.\n",
      "  avg = a.mean(axis, **keepdims_kw)\n",
      "/Library/Frameworks/Python.framework/Versions/3.10/lib/python3.10/site-packages/numpy/core/_methods.py:190: RuntimeWarning: invalid value encountered in double_scalars\n",
      "  ret = ret.dtype.type(ret / rcount)\n",
      "/Library/Frameworks/Python.framework/Versions/3.10/lib/python3.10/site-packages/numpy/lib/function_base.py:518: RuntimeWarning: Mean of empty slice.\n",
      "  avg = a.mean(axis, **keepdims_kw)\n",
      "/Library/Frameworks/Python.framework/Versions/3.10/lib/python3.10/site-packages/numpy/core/_methods.py:190: RuntimeWarning: invalid value encountered in double_scalars\n",
      "  ret = ret.dtype.type(ret / rcount)\n",
      "/Library/Frameworks/Python.framework/Versions/3.10/lib/python3.10/site-packages/numpy/lib/function_base.py:518: RuntimeWarning: Mean of empty slice.\n",
      "  avg = a.mean(axis, **keepdims_kw)\n",
      "/Library/Frameworks/Python.framework/Versions/3.10/lib/python3.10/site-packages/numpy/core/_methods.py:190: RuntimeWarning: invalid value encountered in double_scalars\n",
      "  ret = ret.dtype.type(ret / rcount)\n",
      "/Library/Frameworks/Python.framework/Versions/3.10/lib/python3.10/site-packages/numpy/lib/function_base.py:518: RuntimeWarning: Mean of empty slice.\n",
      "  avg = a.mean(axis, **keepdims_kw)\n",
      "/Library/Frameworks/Python.framework/Versions/3.10/lib/python3.10/site-packages/numpy/core/_methods.py:190: RuntimeWarning: invalid value encountered in double_scalars\n",
      "  ret = ret.dtype.type(ret / rcount)\n",
      "/Library/Frameworks/Python.framework/Versions/3.10/lib/python3.10/site-packages/numpy/lib/function_base.py:518: RuntimeWarning: Mean of empty slice.\n",
      "  avg = a.mean(axis, **keepdims_kw)\n",
      "/Library/Frameworks/Python.framework/Versions/3.10/lib/python3.10/site-packages/numpy/core/_methods.py:190: RuntimeWarning: invalid value encountered in double_scalars\n",
      "  ret = ret.dtype.type(ret / rcount)\n",
      "/Library/Frameworks/Python.framework/Versions/3.10/lib/python3.10/site-packages/numpy/lib/function_base.py:518: RuntimeWarning: Mean of empty slice.\n",
      "  avg = a.mean(axis, **keepdims_kw)\n",
      "/Library/Frameworks/Python.framework/Versions/3.10/lib/python3.10/site-packages/numpy/core/_methods.py:190: RuntimeWarning: invalid value encountered in double_scalars\n",
      "  ret = ret.dtype.type(ret / rcount)\n",
      "/Library/Frameworks/Python.framework/Versions/3.10/lib/python3.10/site-packages/numpy/lib/function_base.py:518: RuntimeWarning: Mean of empty slice.\n",
      "  avg = a.mean(axis, **keepdims_kw)\n",
      "/Library/Frameworks/Python.framework/Versions/3.10/lib/python3.10/site-packages/numpy/core/_methods.py:190: RuntimeWarning: invalid value encountered in double_scalars\n",
      "  ret = ret.dtype.type(ret / rcount)\n",
      "/Library/Frameworks/Python.framework/Versions/3.10/lib/python3.10/site-packages/numpy/lib/function_base.py:518: RuntimeWarning: Mean of empty slice.\n",
      "  avg = a.mean(axis, **keepdims_kw)\n",
      "/Library/Frameworks/Python.framework/Versions/3.10/lib/python3.10/site-packages/numpy/core/_methods.py:190: RuntimeWarning: invalid value encountered in double_scalars\n",
      "  ret = ret.dtype.type(ret / rcount)\n",
      "/Library/Frameworks/Python.framework/Versions/3.10/lib/python3.10/site-packages/numpy/lib/function_base.py:518: RuntimeWarning: Mean of empty slice.\n",
      "  avg = a.mean(axis, **keepdims_kw)\n",
      "/Library/Frameworks/Python.framework/Versions/3.10/lib/python3.10/site-packages/numpy/core/_methods.py:190: RuntimeWarning: invalid value encountered in double_scalars\n",
      "  ret = ret.dtype.type(ret / rcount)\n",
      "/Library/Frameworks/Python.framework/Versions/3.10/lib/python3.10/site-packages/numpy/lib/function_base.py:518: RuntimeWarning: Mean of empty slice.\n",
      "  avg = a.mean(axis, **keepdims_kw)\n",
      "/Library/Frameworks/Python.framework/Versions/3.10/lib/python3.10/site-packages/numpy/core/_methods.py:190: RuntimeWarning: invalid value encountered in double_scalars\n",
      "  ret = ret.dtype.type(ret / rcount)\n",
      "/Library/Frameworks/Python.framework/Versions/3.10/lib/python3.10/site-packages/numpy/lib/function_base.py:518: RuntimeWarning: Mean of empty slice.\n",
      "  avg = a.mean(axis, **keepdims_kw)\n",
      "/Library/Frameworks/Python.framework/Versions/3.10/lib/python3.10/site-packages/numpy/core/_methods.py:190: RuntimeWarning: invalid value encountered in double_scalars\n",
      "  ret = ret.dtype.type(ret / rcount)\n",
      "/Library/Frameworks/Python.framework/Versions/3.10/lib/python3.10/site-packages/numpy/lib/function_base.py:518: RuntimeWarning: Mean of empty slice.\n",
      "  avg = a.mean(axis, **keepdims_kw)\n",
      "/Library/Frameworks/Python.framework/Versions/3.10/lib/python3.10/site-packages/numpy/core/_methods.py:190: RuntimeWarning: invalid value encountered in double_scalars\n",
      "  ret = ret.dtype.type(ret / rcount)\n",
      "/Library/Frameworks/Python.framework/Versions/3.10/lib/python3.10/site-packages/numpy/lib/function_base.py:518: RuntimeWarning: Mean of empty slice.\n",
      "  avg = a.mean(axis, **keepdims_kw)\n",
      "/Library/Frameworks/Python.framework/Versions/3.10/lib/python3.10/site-packages/numpy/core/_methods.py:190: RuntimeWarning: invalid value encountered in double_scalars\n",
      "  ret = ret.dtype.type(ret / rcount)\n",
      "/Library/Frameworks/Python.framework/Versions/3.10/lib/python3.10/site-packages/numpy/lib/function_base.py:518: RuntimeWarning: Mean of empty slice.\n",
      "  avg = a.mean(axis, **keepdims_kw)\n",
      "/Library/Frameworks/Python.framework/Versions/3.10/lib/python3.10/site-packages/numpy/core/_methods.py:190: RuntimeWarning: invalid value encountered in double_scalars\n",
      "  ret = ret.dtype.type(ret / rcount)\n",
      "/Library/Frameworks/Python.framework/Versions/3.10/lib/python3.10/site-packages/numpy/lib/function_base.py:518: RuntimeWarning: Mean of empty slice.\n",
      "  avg = a.mean(axis, **keepdims_kw)\n",
      "/Library/Frameworks/Python.framework/Versions/3.10/lib/python3.10/site-packages/numpy/core/_methods.py:190: RuntimeWarning: invalid value encountered in double_scalars\n",
      "  ret = ret.dtype.type(ret / rcount)\n",
      "/Library/Frameworks/Python.framework/Versions/3.10/lib/python3.10/site-packages/numpy/lib/function_base.py:518: RuntimeWarning: Mean of empty slice.\n",
      "  avg = a.mean(axis, **keepdims_kw)\n",
      "/Library/Frameworks/Python.framework/Versions/3.10/lib/python3.10/site-packages/numpy/core/_methods.py:190: RuntimeWarning: invalid value encountered in double_scalars\n",
      "  ret = ret.dtype.type(ret / rcount)\n",
      "/Library/Frameworks/Python.framework/Versions/3.10/lib/python3.10/site-packages/numpy/lib/function_base.py:518: RuntimeWarning: Mean of empty slice.\n",
      "  avg = a.mean(axis, **keepdims_kw)\n",
      "/Library/Frameworks/Python.framework/Versions/3.10/lib/python3.10/site-packages/numpy/core/_methods.py:190: RuntimeWarning: invalid value encountered in double_scalars\n",
      "  ret = ret.dtype.type(ret / rcount)\n"
     ]
    },
    {
     "data": {
      "text/plain": [
       "Text(0, 0.5, 'score')"
      ]
     },
     "execution_count": 209,
     "metadata": {},
     "output_type": "execute_result"
    },
    {
     "data": {
      "image/png": "[encoded data removed]",
      "text/plain": [
       "<Figure size 640x480 with 1 Axes>"
      ]
     },
     "metadata": {},
     "output_type": "display_data"
    }
   ],
   "source": [
    "def check_plot(predicts):\n",
    "    if 'age_class' not in predicts.columns:\n",
    "        age_class_bins = [0, 20, 30, 40, 60] # Возрастные категории пользователей, подробнее в файле с описанием данных\n",
    "        predicts['age_class'] = pd.cut(predicts['age'], bins=age_class_bins, labels=[0, 1, 2, 3])\n",
    "    predicts = predicts.sort_values(by='viewer_uid').reset_index(drop=True)\n",
    "\n",
    "    counts = data.groupby('viewer_uid').viewer_uid.count().sort_index().reset_index(drop=True)\n",
    "    xs = sorted(counts.unique().tolist())\n",
    "    ys = []\n",
    "    err = []\n",
    "    for c in xs:\n",
    "        m = counts==c\n",
    "        f1_weighted = f1_score(val_targets['age_class'].loc[m], predicts['age_class'].loc[m], average='weighted')\n",
    "        accuracy = accuracy_score(val_targets['sex'].loc[m], predicts['sex'].loc[m])\n",
    "        ys.append(0.7 * f1_weighted + 0.3 * accuracy)\n",
    "        err.append(1/(m.sum())**0.5)\n",
    "    return np.array(xs), np.array(ys), np.array(err)\n",
    "\n",
    "x, y, e = check_plot(pd.DataFrame({'sex': lsex.inverse_transform(model_sex.predict(X_vl)), 'age_class': model_agec.predict(X_vl)[:,0], 'viewer_uid': X_vl.index}))\n",
    "\n",
    "sns.lineplot(x=x, y=y)\n",
    "sns.lineplot(x=x, y=(y+e).clip(0,1), lw=0)\n",
    "line = sns.lineplot(x=x, y=(y-e).clip(0,1), lw=0).get_lines()\n",
    "plt.fill_between(line[0].get_xdata(), line[1].get_ydata(), line[2].get_ydata(), color='tab:blue', alpha=.5)\n",
    "plt.xscale('log')\n",
    "plt.xlabel('длина последовательности')\n",
    "plt.ylabel('score')"
   ]
  },
  {
   "cell_type": "markdown",
   "id": "a161a194",
   "metadata": {},
   "source": [
    "# Extended modeling"
   ]
  },
  {
   "cell_type": "code",
   "execution_count": 29,
   "id": "c7c529db",
   "metadata": {},
   "outputs": [
    {
     "name": "stdout",
     "output_type": "stream",
     "text": [
      "Weighted F1 = 0.2724 \tAccuracy = 0.5003 \tFinal Score = 0.3408\n"
     ]
    }
   ],
   "source": [
    "def aggregate_mode_train(cat):\n",
    "    info = pd.DataFrame({'age': train_events.groupby(cat)['age'].median(), 'sex': train_events.groupby(cat)['sex'].apply(get_mode)})\n",
    "    _events = events[events['viewer_uid'].isin(TRAIN_IDS)].join(info, on=cat, how='left').set_index('viewer_uid')\n",
    "    predicts = pd.DataFrame({\n",
    "            cat+' age': _events['age'],\n",
    "            cat+' sex': _events['sex']\n",
    "        }).loc[TRAIN_IDS]\n",
    "    predicts[cat+' age'] = predicts[cat+' age'].fillna(info['age'].median())\n",
    "    predicts[cat+' sex'] = predicts[cat+' sex'].fillna(info['sex'].mode()[0])\n",
    "    return predicts\n",
    "def aggregate_mode_val(cat):\n",
    "    info = pd.DataFrame({'age': train_events.groupby(cat)['age'].median(), 'sex': train_events.groupby(cat)['sex'].apply(get_mode)})\n",
    "    _events = events[events['viewer_uid'].isin(VAL_IDS)].join(info, on=cat, how='left').set_index('viewer_uid')\n",
    "    predicts = pd.DataFrame({\n",
    "            cat+' age': _events['age'],\n",
    "            cat+' sex': _events['sex']\n",
    "        }).loc[VAL_IDS]\n",
    "    predicts[cat+' age'] = predicts[cat+' age'].fillna(info['age'].median())\n",
    "    predicts[cat+' sex'] = predicts[cat+' sex'].fillna(info['sex'].mode()[0])\n",
    "    return predicts\n",
    "\n",
    "d = data.merge(video, 'left').set_index(data['viewer_uid'], drop=True)\n",
    "wt = pd.Series(np.log(d.total_watchtime), index=d.index)\n",
    "wt.name = 'watchtime'\n",
    "perc = pd.Series(-np.log((d.total_watchtime/d.duration)), index=d.index)\n",
    "perc.name = 'watched_video_percent'\n",
    "info = pd.to_datetime(d.event_timestamp).groupby(d.rutube_video_id).min()\n",
    "dtnew = (pd.to_datetime(d.event_timestamp).reset_index(drop=True) - info.loc[d.rutube_video_id].reset_index(drop=True))\n",
    "dtnew.index = d.index\n",
    "dtnew.name = 'novelty_following'\n",
    "md = d.duration\n",
    "md.name = 'video_duration'\n",
    "data_sorted = data.sort_values(['viewer_uid','event_timestamp'])\n",
    "mfr = pd.to_datetime(data_sorted.event_timestamp).diff(1).dt.total_seconds().clip(0)\n",
    "mfr.index = data_sorted.viewer_uid\n",
    "mfr.name = 'pause_duration'\n",
    "\n",
    "tf = d[['weekday', 'part of day']]\n",
    "\n",
    "\n",
    "X_tr = pd.concat((\n",
    "    aggregate_mode_train('cluster_id'),\n",
    "    aggregate_mode_train('rutube_video_id'),\n",
    "    aggregate_mode_train('category'),\n",
    "    aggregate_mode_train('author_id'),\n",
    "    aggregate_mode_train('ua_os'),\n",
    "    aggregate_mode_train('ua_client_name'),\n",
    "    wt.loc[TRAIN_IDS], perc.loc[TRAIN_IDS], dtnew.loc[TRAIN_IDS], md.loc[TRAIN_IDS], mfr.loc[TRAIN_IDS],\n",
    "    tf.loc[TRAIN_IDS]\n",
    "    ), axis=1)\n",
    "X_vl = pd.concat((\n",
    "    aggregate_mode_val('cluster_id'),\n",
    "    aggregate_mode_val('rutube_video_id'),\n",
    "    aggregate_mode_val('category'),\n",
    "    aggregate_mode_val('author_id'),\n",
    "    aggregate_mode_val('ua_os'),\n",
    "    aggregate_mode_val('ua_client_name'),\n",
    "    wt.loc[VAL_IDS], perc.loc[VAL_IDS], dtnew.loc[VAL_IDS], md.loc[VAL_IDS], mfr.loc[VAL_IDS],\n",
    "    tf.loc[VAL_IDS]\n",
    "    ), axis=1)\n",
    "\n",
    "y_tr = targets.set_index('viewer_uid')[['sex','age']].loc[X_tr.index]\n",
    "lsex = LabelEncoder().fit(y_tr['sex'])\n",
    "y_tr['sex'] = lsex.transform(y_tr['sex'])\n",
    "y_tr['age_class'] = pd.cut(y_tr['age'], bins=[0, 20, 30, 40, 60], labels=[0, 1, 2, 3])\n",
    "\n",
    "cf = [c+' sex' for c in ['cluster_id', 'rutube_video_id', 'category', 'author_id', 'ua_client_name', 'ua_os']] # + ['ua_client_type', 'ua_device_type']\n",
    "model_sex = CatBoostClassifier(verbose=False, cat_features=cf).fit(X_tr, y_tr['sex'])\n",
    "model_age = CatBoostRegressor(verbose=False, cat_features=cf).fit(X_tr, y_tr['age'])\n",
    "check(pd.DataFrame({\n",
    "    'sex': lsex.inverse_transform(pd.Series(model_sex.predict(X_vl)).groupby(X_vl.index).apply(get_mode)),\n",
    "    'age': pd.Series(model_age.predict(X_vl)).groupby(X_vl.index).median(), 'viewer_uid': VAL_IDS}).reset_index(drop=True))"
   ]
  },
  {
   "cell_type": "markdown",
   "id": "1882565c",
   "metadata": {},
   "source": [
    "# one video approach"
   ]
  },
  {
   "cell_type": "code",
   "execution_count": 34,
   "id": "a47dd392",
   "metadata": {},
   "outputs": [],
   "source": [
    "d = data.merge(video, 'left')\n",
    "one_video = (d.total_watchtime/d.duration).groupby(data['viewer_uid']).idxmax()\n",
    "events_ov = d.loc[one_video.values]\n",
    "train_events = events_ov[events_ov['viewer_uid'].isin(TRAIN_IDS)].merge(targets, on='viewer_uid', how='inner')\n",
    "\n",
    "def aggregate_mode_train(cat):\n",
    "    info = pd.DataFrame({'age': train_events.groupby(cat)['age'].median(), 'sex': train_events.groupby(cat)['sex'].apply(get_mode)})\n",
    "    _events = events_ov[events_ov['viewer_uid'].isin(TRAIN_IDS)].join(info, on=cat, how='left')\n",
    "    predicts = pd.DataFrame({\n",
    "            cat+' age': _events.groupby('viewer_uid')['age'].median(),\n",
    "            # cat+' var age': _events.groupby('viewer_uid')['age'].std(),\n",
    "            cat+' sex': _events.groupby('viewer_uid')['sex'].apply(get_mode)\n",
    "        }).loc[TRAIN_IDS]\n",
    "    predicts[cat+' age'] = predicts[cat+' age'].fillna(info['age'].median())\n",
    "    # predicts[cat+' var age'] = predicts[cat+' var age'].fillna(0)\n",
    "    predicts[cat+' sex'] = predicts[cat+' sex'].fillna(info['sex'].mode()[0])\n",
    "    return predicts\n",
    "\n",
    "def aggregate_mode_val(cat):\n",
    "    info = pd.DataFrame({'age': train_events.groupby(cat)['age'].median(), 'sex': train_events.groupby(cat)['sex'].apply(get_mode)})\n",
    "    _events = events_ov[events_ov['viewer_uid'].isin(VAL_IDS)].join(info, on=cat, how='left')\n",
    "    predicts = pd.DataFrame({\n",
    "            cat+' age': _events.groupby('viewer_uid')['age'].median(),\n",
    "            # cat+' var age': _events.groupby('viewer_uid')['age'].std(),\n",
    "            cat+' sex': _events.groupby('viewer_uid')['sex'].apply(get_mode)\n",
    "        }).loc[VAL_IDS]\n",
    "    predicts[cat+' age'] = predicts[cat+' age'].fillna(info['age'].median())\n",
    "    # predicts[cat+' var age'] = predicts[cat+' var age'].fillna(0)\n",
    "    predicts[cat+' sex'] = predicts[cat+' sex'].fillna(info['sex'].mode()[0])\n",
    "    return predicts\n",
    "\n",
    "d = events_ov\n",
    "perc = pd.Series(-np.log((d.total_watchtime/d.duration))).groupby(d['viewer_uid']).median()\n",
    "perc.name = 'watched_video_percent'\n",
    "wt = pd.Series(np.log(d.total_watchtime)).groupby(d['viewer_uid']).median()\n",
    "wt.name = 'watchtime'\n",
    "info = pd.to_datetime(d.event_timestamp).groupby(d.rutube_video_id).min()\n",
    "dtnew = (pd.to_datetime(d.event_timestamp) - info.loc[d.rutube_video_id].reset_index(drop=True)).groupby(d['viewer_uid']).median()\n",
    "dtnew.name = 'novelty_following'\n",
    "md = d.duration.groupby(d['viewer_uid']).median()\n",
    "md.name = 'video_duration'\n",
    "data_sorted = d.sort_values(['viewer_uid','event_timestamp'])\n",
    "mfr = pd.to_datetime(data_sorted.event_timestamp).diff(1).groupby(data_sorted.viewer_uid).median().dt.total_seconds().clip(0)\n",
    "mfr.name = 'pause_duration'\n",
    "ndf = data[['category', 'ua_os']].groupby(d['viewer_uid']).count()\n",
    "ndf.columns = ['n_categories', 'n_ua_os']\n",
    "tf = d[['weekday', 'part of day']].groupby(d['viewer_uid']).median()\n",
    "\n",
    "X_tr = pd.concat((\n",
    "    aggregate_mode_train('cluster_id'),\n",
    "    aggregate_mode_train('rutube_video_id'),\n",
    "    aggregate_mode_train('category'),\n",
    "    aggregate_mode_train('author_id'),\n",
    "    aggregate_mode_train('ua_os'),\n",
    "    aggregate_mode_train('ua_client_name'),\n",
    "    wt.loc[TRAIN_IDS], perc.loc[TRAIN_IDS], dtnew.loc[TRAIN_IDS], md.loc[TRAIN_IDS], mfr.loc[TRAIN_IDS],\n",
    "    ndf.loc[TRAIN_IDS], tf.loc[TRAIN_IDS]\n",
    "    ), axis=1)\n",
    "X_vl = pd.concat((\n",
    "    aggregate_mode_val('cluster_id'),\n",
    "    aggregate_mode_val('rutube_video_id'),\n",
    "    aggregate_mode_val('category'),\n",
    "    aggregate_mode_val('author_id'),\n",
    "    aggregate_mode_val('ua_os'),\n",
    "    aggregate_mode_val('ua_client_name'),\n",
    "    wt.loc[VAL_IDS], perc.loc[VAL_IDS], dtnew.loc[VAL_IDS], md.loc[VAL_IDS], mfr.loc[VAL_IDS],\n",
    "    ndf.loc[VAL_IDS], tf.loc[VAL_IDS]\n",
    "    ), axis=1)\n",
    "\n",
    "\n",
    "# предоработка перед обучением\n",
    "\n",
    "y_tr = targets.set_index('viewer_uid')[['sex','age']].loc[TRAIN_IDS]\n",
    "lsex = LabelEncoder().fit(y_tr['sex'])\n",
    "y_tr['sex'] = lsex.transform(y_tr['sex'])\n",
    "y_tr['age_class'] = pd.cut(y_tr['age'], bins=[0, 20, 30, 40, 60], labels=[0, 1, 2, 3])\n",
    "\n",
    "y_vl = targets.set_index('viewer_uid')[['sex','age']].loc[VAL_IDS]\n",
    "y_vl['sex'] = lsex.transform(y_vl['sex'])\n",
    "\n",
    "cf = [c+' sex' for c in ['cluster_id', 'rutube_video_id', 'category', 'author_id', 'ua_client_name', 'ua_os']]\n",
    "for f in cf:\n",
    "    X_tr[f] = lsex.transform(X_tr[f])\n",
    "    X_vl[f] = lsex.transform(X_vl[f])\n",
    "X_tr['novelty_following'] = X_tr['novelty_following'].dt.total_seconds()\n",
    "X_vl['novelty_following'] = X_vl['novelty_following'].dt.total_seconds()"
   ]
  },
  {
   "cell_type": "code",
   "execution_count": 35,
   "id": "53dffc0d",
   "metadata": {},
   "outputs": [
    {
     "name": "stdout",
     "output_type": "stream",
     "text": [
      "Weighted F1 = 0.4251 \tAccuracy = 0.7166 \tFinal Score = 0.5125\n"
     ]
    }
   ],
   "source": [
    "model_sex = CatBoostClassifier(1000, verbose=False, cat_features=cf).fit(X_tr, y_tr['sex'])\n",
    "model_agec = CatBoostClassifier(1000, verbose=False, cat_features=cf).fit(X_tr, y_tr['age_class'])\n",
    "check(pd.DataFrame({'viewer_uid': X_vl.index,\n",
    "    'sex': lsex.inverse_transform(model_sex.predict(X_vl)),\n",
    "    'age_class': model_agec.predict(X_vl)[:,0],\n",
    "}))"
   ]
  },
  {
   "cell_type": "markdown",
   "id": "2401e916",
   "metadata": {},
   "source": [
    "# 2 modes"
   ]
  },
  {
   "cell_type": "code",
   "execution_count": 44,
   "id": "dd9673f2",
   "metadata": {},
   "outputs": [],
   "source": [
    "def get_mode2(row): # Кастомная функция вычисления модального значения категориального признака\n",
    "    counter = Counter(row)\n",
    "    (most_common, _) = counter.most_common(2)[-1]\n",
    "    return most_common\n",
    "def aggregate_mode_train2(cat):\n",
    "    info = pd.DataFrame({'age': train_events.groupby(cat)['age'].median(), 'sex': train_events.groupby(cat)['sex'].apply(get_mode)})\n",
    "    _events = events[events['viewer_uid'].isin(TRAIN_IDS)].join(info, on=cat, how='left')\n",
    "    predicts = pd.DataFrame({\n",
    "            cat+' age2': _events.groupby('viewer_uid')['age'].median(),\n",
    "            # cat+' var age': _events.groupby('viewer_uid')['age'].std(),\n",
    "            cat+' sex2': _events.groupby('viewer_uid')['sex'].apply(get_mode2)\n",
    "        }).loc[TRAIN_IDS]\n",
    "    predicts[cat+' age2'] = predicts[cat+' age2'].fillna(info['age'].median())\n",
    "    # predicts[cat+' var age'] = predicts[cat+' var age'].fillna(0)\n",
    "    predicts[cat+' sex2'] = predicts[cat+' sex2'].fillna(info['sex'].mode()[0])\n",
    "    return predicts\n",
    "def aggregate_mode_val2(cat):\n",
    "    info = pd.DataFrame({'age': train_events.groupby(cat)['age'].median(), 'sex': train_events.groupby(cat)['sex'].apply(get_mode)})\n",
    "    _events = events[events['viewer_uid'].isin(VAL_IDS)].join(info, on=cat, how='left')\n",
    "    predicts = pd.DataFrame({\n",
    "            cat+' age2': _events.groupby('viewer_uid')['age'].median(),\n",
    "            # cat+' var age': _events.groupby('viewer_uid')['age'].std(),\n",
    "            cat+' sex2': _events.groupby('viewer_uid')['sex'].apply(get_mode2)\n",
    "        }).loc[VAL_IDS]\n",
    "    predicts[cat+' age2'] = predicts[cat+' age2'].fillna(info['age'].median())\n",
    "    # predicts[cat+' var age'] = predicts[cat+' var age'].fillna(0)\n",
    "    predicts[cat+' sex2'] = predicts[cat+' sex2'].fillna(info['sex'].mode()[0])\n",
    "    return predicts"
   ]
  },
  {
   "cell_type": "code",
   "execution_count": 50,
   "id": "e9f7fedd",
   "metadata": {},
   "outputs": [],
   "source": [
    "X_tr = pd.concat((\n",
    "    aggregate_mode_train('cluster_id'),\n",
    "    aggregate_mode_train('rutube_video_id'),\n",
    "    aggregate_mode_train('category'),\n",
    "    aggregate_mode_train('author_id'),\n",
    "    aggregate_mode_train('ua_os'),\n",
    "    aggregate_mode_train('ua_client_name'),\n",
    "    aggregate_mode_train2('cluster_id'),\n",
    "    aggregate_mode_train2('rutube_video_id'),\n",
    "    aggregate_mode_train2('category'),\n",
    "    aggregate_mode_train2('author_id'),\n",
    "    aggregate_mode_train2('ua_os'),\n",
    "    aggregate_mode_train2('ua_client_name'),\n",
    "    wt.loc[TRAIN_IDS], perc.loc[TRAIN_IDS], dtnew.loc[TRAIN_IDS], md.loc[TRAIN_IDS], mfr.loc[TRAIN_IDS],\n",
    "    ndf.loc[TRAIN_IDS], tf.loc[TRAIN_IDS]\n",
    "    ), axis=1)\n",
    "X_vl = pd.concat((\n",
    "    aggregate_mode_val('cluster_id'),\n",
    "    aggregate_mode_val('rutube_video_id'),\n",
    "    aggregate_mode_val('category'),\n",
    "    aggregate_mode_val('author_id'),\n",
    "    aggregate_mode_val('ua_os'),\n",
    "    aggregate_mode_val('ua_client_name'),\n",
    "    aggregate_mode_val2('cluster_id'),\n",
    "    aggregate_mode_val2('rutube_video_id'),\n",
    "    aggregate_mode_val2('category'),\n",
    "    aggregate_mode_val2('author_id'),\n",
    "    aggregate_mode_val2('ua_os'),\n",
    "    aggregate_mode_val2('ua_client_name'),\n",
    "    wt.loc[VAL_IDS], perc.loc[VAL_IDS], dtnew.loc[VAL_IDS], md.loc[VAL_IDS], mfr.loc[VAL_IDS],\n",
    "    ndf.loc[VAL_IDS], tf.loc[VAL_IDS]\n",
    "    ), axis=1)\n",
    "\n",
    "y_tr = targets.set_index('viewer_uid')[['sex','age']].loc[TRAIN_IDS]\n",
    "lsex = LabelEncoder().fit(y_tr['sex'])\n",
    "y_tr['sex'] = lsex.transform(y_tr['sex'])\n",
    "y_tr['age_class'] = pd.cut(y_tr['age'], bins=[0, 20, 30, 40, 60], labels=[0, 1, 2, 3])\n",
    "\n",
    "y_vl = targets.set_index('viewer_uid')[['sex','age']].loc[VAL_IDS]\n",
    "y_vl['sex'] = lsex.transform(y_vl['sex'])\n",
    "\n",
    "cf = [c+' sex' for c in ['cluster_id', 'rutube_video_id', 'category', 'author_id', 'ua_client_name', 'ua_os']] + \\\n",
    "    [c+' sex2' for c in ['cluster_id', 'rutube_video_id', 'category', 'author_id', 'ua_client_name', 'ua_os']]\n",
    "    # + ['ua_client_type', 'ua_device_type']\n",
    "for f in cf:\n",
    "    X_tr[f] = lsex.transform(X_tr[f])\n",
    "    X_vl[f] = lsex.transform(X_vl[f])\n",
    "X_tr['novelty_following'] = X_tr['novelty_following'].dt.total_seconds()\n",
    "X_vl['novelty_following'] = X_vl['novelty_following'].dt.total_seconds()\n"
   ]
  },
  {
   "cell_type": "code",
   "execution_count": 52,
   "id": "194b5a40",
   "metadata": {},
   "outputs": [
    {
     "name": "stdout",
     "output_type": "stream",
     "text": [
      "Weighted F1 = 0.4308 \tAccuracy = 0.7199 \tFinal Score = 0.5176\n"
     ]
    }
   ],
   "source": [
    "model_sex = CatBoostClassifier(100, verbose=False, cat_features=cf, reg_lambda=1e-3).fit(X_tr, y_tr['sex'])\n",
    "model_agec = CatBoostClassifier(100, verbose=False, cat_features=cf, reg_lambda=1e-3).fit(X_tr, y_tr['age_class'])\n",
    "check(pd.DataFrame({'viewer_uid': X_vl.index,\n",
    "    'sex': lsex.inverse_transform(model_sex.predict(X_vl)),\n",
    "    'age_class': model_agec.predict(X_vl)[:,0],\n",
    "}))"
   ]
  },
  {
   "cell_type": "markdown",
   "id": "8e372100-f7fa-4d06-b8c9-9c9acdb5c9ea",
   "metadata": {},
   "source": [
    "# Пример заполнения submission.csv\n",
    "    Перед отправкой убедитесь, что количество уникальных пользователей в тестовой выборке и в вашей таблице предсказаний совпадает. Проверьте, чтобы в столбцах с прогнозируемыми значениями не было пропущенных значений. \n",
    "\n",
    "    Идентификаторы пользователей (viewer_uid) нужно сохранить как отдельную колонку, а не индекс таблицы.\n",
    "    \n",
    "    Не забудьте сохранить файл с параметром index = False."
   ]
  },
  {
   "cell_type": "code",
   "execution_count": 21,
   "id": "e43ca52a-a403-45fe-96f3-f8f7b151c001",
   "metadata": {},
   "outputs": [],
   "source": [
    "submission = pd.DataFrame(columns=['viewer_uid', 'sex', 'age_class'])\n",
    "submission['viewer_uid'] = predicts['viewer_uid'].values\n",
    "submission['sex'] = predicts['sex_mode'].values\n",
    "submission['age_class'] = predicts['age_class'].values"
   ]
  },
  {
   "cell_type": "code",
   "execution_count": 22,
   "id": "8593883c-6e2d-47e3-b1de-25aa8d2bf8d2",
   "metadata": {},
   "outputs": [
    {
     "data": {
      "text/html": [
       "<div>\n",
       "<style scoped>\n",
       "    .dataframe tbody tr th:only-of-type {\n",
       "        vertical-align: middle;\n",
       "    }\n",
       "\n",
       "    .dataframe tbody tr th {\n",
       "        vertical-align: top;\n",
       "    }\n",
       "\n",
       "    .dataframe thead th {\n",
       "        text-align: right;\n",
       "    }\n",
       "</style>\n",
       "<table border=\"1\" class=\"dataframe\">\n",
       "  <thead>\n",
       "    <tr style=\"text-align: right;\">\n",
       "      <th></th>\n",
       "      <th>viewer_uid</th>\n",
       "      <th>sex</th>\n",
       "      <th>age_class</th>\n",
       "    </tr>\n",
       "  </thead>\n",
       "  <tbody>\n",
       "    <tr>\n",
       "      <th>0</th>\n",
       "      <td>10000001</td>\n",
       "      <td>female</td>\n",
       "      <td>2</td>\n",
       "    </tr>\n",
       "    <tr>\n",
       "      <th>1</th>\n",
       "      <td>10000007</td>\n",
       "      <td>male</td>\n",
       "      <td>2</td>\n",
       "    </tr>\n",
       "    <tr>\n",
       "      <th>2</th>\n",
       "      <td>10000010</td>\n",
       "      <td>male</td>\n",
       "      <td>2</td>\n",
       "    </tr>\n",
       "    <tr>\n",
       "      <th>3</th>\n",
       "      <td>10000012</td>\n",
       "      <td>male</td>\n",
       "      <td>2</td>\n",
       "    </tr>\n",
       "    <tr>\n",
       "      <th>4</th>\n",
       "      <td>10000014</td>\n",
       "      <td>male</td>\n",
       "      <td>2</td>\n",
       "    </tr>\n",
       "  </tbody>\n",
       "</table>\n",
       "</div>"
      ],
      "text/plain": [
       "   viewer_uid     sex age_class\n",
       "0    10000001  female         2\n",
       "1    10000007    male         2\n",
       "2    10000010    male         2\n",
       "3    10000012    male         2\n",
       "4    10000014    male         2"
      ]
     },
     "execution_count": 22,
     "metadata": {},
     "output_type": "execute_result"
    }
   ],
   "source": [
    "submission.head()"
   ]
  },
  {
   "cell_type": "code",
   "execution_count": null,
   "id": "d2f4ea74-e671-4dd7-b72d-796c7117a00b",
   "metadata": {},
   "outputs": [],
   "source": [
    "submission.to_csv(\n",
    "    # path/submission.csv,\n",
    "    # index=False\n",
    ")"
   ]
  }
 ],
 "metadata": {
  "kernelspec": {
   "display_name": "Python 3 (ipykernel)",
   "language": "python",
   "name": "python3"
  },
  "language_info": {
   "codemirror_mode": {
    "name": "ipython",
    "version": 3
   },
   "file_extension": ".py",
   "mimetype": "text/x-python",
   "name": "python",
   "nbconvert_exporter": "python",
   "pygments_lexer": "ipython3",
   "version": "3.10.6"
  },
  "toc": {
   "base_numbering": 1,
   "nav_menu": {},
   "number_sections": true,
   "sideBar": true,
   "skip_h1_title": false,
   "title_cell": "Table of Contents",
   "title_sidebar": "Contents",
   "toc_cell": false,
   "toc_position": {},
   "toc_section_display": true,
   "toc_window_display": false
  }
 },
 "nbformat": 4,
 "nbformat_minor": 5
}
