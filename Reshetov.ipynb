{
 "cells": [
  {
   "cell_type": "markdown",
   "metadata": {},
   "source": [
    "# Предсказание социально-демографических характеристик пользователей Rutube\n",
    "\n",
    "Пользователи RUTUBE не всегда указывают свои данные, такие как возраст и пол, что затрудняет формирование портрета пользователя и создание персонализированных рекомендаций. Это ограничивает возможности платформы в предоставлении контента, который наиболее подходит интересам и потребностям пользователей, тем самым ухудшая пользовательский опыт.\n",
    "\n",
    "Необходимо разработать модель, которая на основе истории просмотров сможет предсказывать пол и возраст пользователя. В качестве baseline решения мы предоставляем этот ноутбук.\n"
   ]
  },
  {
   "cell_type": "markdown",
   "metadata": {},
   "source": [
    "## Загрузка данных"
   ]
  },
  {
   "cell_type": "markdown",
   "metadata": {},
   "source": [
    "    В таблице train_events указаны события пользователей Rutube \n",
    "    - event_date : Дата события\n",
    "    - viewer_uid : Идентификатор пользователя\n",
    "    - region : Регион пользователя\n",
    "    - rutube_video_id : Идентификатор видео\n",
    "    - ua_device_type : Устройство пользователя\n",
    "    - ua_client_type : Приложение/браузер \n",
    "    - ua_os : Операционная система устройства пользователя\n",
    "    - ua_client_name : Веб-браузер/приложение, с которого пользователь просматривал видео\n",
    "    - total_watchtime : Время просмотра в секундах"
   ]
  },
  {
   "cell_type": "code",
   "execution_count": 2,
   "metadata": {},
   "outputs": [],
   "source": [
    "import numpy as np\n",
    "import pandas as pd\n",
    "import matplotlib.pyplot as plt\n",
    "import seaborn as sns\n",
    "\n",
    "from sklearn.model_selection import train_test_split"
   ]
  },
  {
   "cell_type": "code",
   "execution_count": 186,
   "metadata": {},
   "outputs": [],
   "source": [
    "from datetime import datetime\n",
    "import pytz\n",
    "\n",
    "\n",
    "# Функция для перевода времени\n",
    "def convert_to_local_time(row):\n",
    "    # Парсим timestamp\n",
    "    event_time = pd.to_datetime(row['event_timestamp'])\n",
    "    \n",
    "    # Получаем часовой пояс региона\n",
    "    region_name = row['region']\n",
    "    if region_name in region_timezones:\n",
    "        timezone = pytz.timezone(region_timezones[region_name])\n",
    "    else:\n",
    "        raise ValueError(f\"Unknown region: {region_name}\")\n",
    "\n",
    "    # Переводим в местное время\n",
    "    local_time = event_time.astimezone(timezone)\n",
    "    local_time = local_time.strftime('%Y-%m-%d %H:%M:%S')\n",
    "    \n",
    "    return local_time"
   ]
  },
  {
   "cell_type": "code",
   "execution_count": 3,
   "metadata": {},
   "outputs": [],
   "source": [
    "train_events_df = pd.read_csv('train_dataset_soc_dem_train/train_events.csv', parse_dates=['event_timestamp'])\n",
    "train_targets_df = pd.read_csv('train_dataset_soc_dem_train/train_targets.csv')\n",
    "all_events_df = pd.read_csv('train_dataset_soc_dem_train/all_events.csv', parse_dates=['event_timestamp'])"
   ]
  },
  {
   "cell_type": "code",
   "execution_count": 4,
   "metadata": {},
   "outputs": [
    {
     "data": {
      "text/html": [
       "<div>\n",
       "<style scoped>\n",
       "    .dataframe tbody tr th:only-of-type {\n",
       "        vertical-align: middle;\n",
       "    }\n",
       "\n",
       "    .dataframe tbody tr th {\n",
       "        vertical-align: top;\n",
       "    }\n",
       "\n",
       "    .dataframe thead th {\n",
       "        text-align: right;\n",
       "    }\n",
       "</style>\n",
       "<table border=\"1\" class=\"dataframe\">\n",
       "  <thead>\n",
       "    <tr style=\"text-align: right;\">\n",
       "      <th></th>\n",
       "      <th>event_timestamp</th>\n",
       "      <th>region</th>\n",
       "      <th>ua_device_type</th>\n",
       "      <th>ua_client_type</th>\n",
       "      <th>ua_os</th>\n",
       "      <th>ua_client_name</th>\n",
       "      <th>total_watchtime</th>\n",
       "      <th>rutube_video_id</th>\n",
       "      <th>viewer_uid</th>\n",
       "    </tr>\n",
       "  </thead>\n",
       "  <tbody>\n",
       "    <tr>\n",
       "      <th>0</th>\n",
       "      <td>2024-06-01 06:40:58+03:00</td>\n",
       "      <td>Chelyabinsk</td>\n",
       "      <td>desktop</td>\n",
       "      <td>browser</td>\n",
       "      <td>Windows</td>\n",
       "      <td>Yandex Browser</td>\n",
       "      <td>1883</td>\n",
       "      <td>video_133074</td>\n",
       "      <td>10067243</td>\n",
       "    </tr>\n",
       "    <tr>\n",
       "      <th>1</th>\n",
       "      <td>2024-06-01 19:33:24+03:00</td>\n",
       "      <td>Bashkortostan Republic</td>\n",
       "      <td>smartphone</td>\n",
       "      <td>mobile app</td>\n",
       "      <td>Android</td>\n",
       "      <td>Rutube</td>\n",
       "      <td>512</td>\n",
       "      <td>video_362960</td>\n",
       "      <td>10245341</td>\n",
       "    </tr>\n",
       "    <tr>\n",
       "      <th>2</th>\n",
       "      <td>2024-06-01 21:30:43+03:00</td>\n",
       "      <td>St.-Petersburg</td>\n",
       "      <td>desktop</td>\n",
       "      <td>browser</td>\n",
       "      <td>Windows</td>\n",
       "      <td>Chrome</td>\n",
       "      <td>5647</td>\n",
       "      <td>video_96775</td>\n",
       "      <td>10894333</td>\n",
       "    </tr>\n",
       "    <tr>\n",
       "      <th>3</th>\n",
       "      <td>2024-06-01 23:03:42+03:00</td>\n",
       "      <td>Moscow</td>\n",
       "      <td>smartphone</td>\n",
       "      <td>mobile app</td>\n",
       "      <td>Android</td>\n",
       "      <td>Rutube</td>\n",
       "      <td>1521</td>\n",
       "      <td>video_161610</td>\n",
       "      <td>10029092</td>\n",
       "    </tr>\n",
       "    <tr>\n",
       "      <th>4</th>\n",
       "      <td>2024-06-01 22:48:09+03:00</td>\n",
       "      <td>Moscow</td>\n",
       "      <td>smartphone</td>\n",
       "      <td>mobile app</td>\n",
       "      <td>Android</td>\n",
       "      <td>Rutube</td>\n",
       "      <td>71</td>\n",
       "      <td>video_116245</td>\n",
       "      <td>10452976</td>\n",
       "    </tr>\n",
       "  </tbody>\n",
       "</table>\n",
       "</div>"
      ],
      "text/plain": [
       "            event_timestamp                  region ua_device_type  \\\n",
       "0 2024-06-01 06:40:58+03:00             Chelyabinsk        desktop   \n",
       "1 2024-06-01 19:33:24+03:00  Bashkortostan Republic     smartphone   \n",
       "2 2024-06-01 21:30:43+03:00          St.-Petersburg        desktop   \n",
       "3 2024-06-01 23:03:42+03:00                  Moscow     smartphone   \n",
       "4 2024-06-01 22:48:09+03:00                  Moscow     smartphone   \n",
       "\n",
       "  ua_client_type    ua_os  ua_client_name  total_watchtime rutube_video_id  \\\n",
       "0        browser  Windows  Yandex Browser             1883    video_133074   \n",
       "1     mobile app  Android          Rutube              512    video_362960   \n",
       "2        browser  Windows          Chrome             5647     video_96775   \n",
       "3     mobile app  Android          Rutube             1521    video_161610   \n",
       "4     mobile app  Android          Rutube               71    video_116245   \n",
       "\n",
       "   viewer_uid  \n",
       "0    10067243  \n",
       "1    10245341  \n",
       "2    10894333  \n",
       "3    10029092  \n",
       "4    10452976  "
      ]
     },
     "execution_count": 4,
     "metadata": {},
     "output_type": "execute_result"
    }
   ],
   "source": [
    "train_events_df.head()"
   ]
  },
  {
   "cell_type": "code",
   "execution_count": 5,
   "metadata": {},
   "outputs": [
    {
     "name": "stdout",
     "output_type": "stream",
     "text": [
      "<class 'pandas.core.frame.DataFrame'>\n",
      "RangeIndex: 1759616 entries, 0 to 1759615\n",
      "Data columns (total 9 columns):\n",
      " #   Column           Dtype                    \n",
      "---  ------           -----                    \n",
      " 0   event_timestamp  datetime64[ns, UTC+03:00]\n",
      " 1   region           object                   \n",
      " 2   ua_device_type   object                   \n",
      " 3   ua_client_type   object                   \n",
      " 4   ua_os            object                   \n",
      " 5   ua_client_name   object                   \n",
      " 6   total_watchtime  int64                    \n",
      " 7   rutube_video_id  object                   \n",
      " 8   viewer_uid       int64                    \n",
      "dtypes: datetime64[ns, UTC+03:00](1), int64(2), object(6)\n",
      "memory usage: 120.8+ MB\n"
     ]
    }
   ],
   "source": [
    "train_events_df.info()"
   ]
  },
  {
   "cell_type": "code",
   "execution_count": 6,
   "metadata": {},
   "outputs": [
    {
     "data": {
      "text/html": [
       "<div>\n",
       "<style scoped>\n",
       "    .dataframe tbody tr th:only-of-type {\n",
       "        vertical-align: middle;\n",
       "    }\n",
       "\n",
       "    .dataframe tbody tr th {\n",
       "        vertical-align: top;\n",
       "    }\n",
       "\n",
       "    .dataframe thead th {\n",
       "        text-align: right;\n",
       "    }\n",
       "</style>\n",
       "<table border=\"1\" class=\"dataframe\">\n",
       "  <thead>\n",
       "    <tr style=\"text-align: right;\">\n",
       "      <th></th>\n",
       "      <th>viewer_uid</th>\n",
       "      <th>age</th>\n",
       "      <th>sex</th>\n",
       "      <th>age_class</th>\n",
       "    </tr>\n",
       "  </thead>\n",
       "  <tbody>\n",
       "    <tr>\n",
       "      <th>0</th>\n",
       "      <td>10087154</td>\n",
       "      <td>30</td>\n",
       "      <td>male</td>\n",
       "      <td>1</td>\n",
       "    </tr>\n",
       "    <tr>\n",
       "      <th>1</th>\n",
       "      <td>10908708</td>\n",
       "      <td>25</td>\n",
       "      <td>female</td>\n",
       "      <td>1</td>\n",
       "    </tr>\n",
       "    <tr>\n",
       "      <th>2</th>\n",
       "      <td>10190464</td>\n",
       "      <td>34</td>\n",
       "      <td>male</td>\n",
       "      <td>2</td>\n",
       "    </tr>\n",
       "    <tr>\n",
       "      <th>3</th>\n",
       "      <td>10939673</td>\n",
       "      <td>25</td>\n",
       "      <td>male</td>\n",
       "      <td>1</td>\n",
       "    </tr>\n",
       "    <tr>\n",
       "      <th>4</th>\n",
       "      <td>10288257</td>\n",
       "      <td>48</td>\n",
       "      <td>male</td>\n",
       "      <td>3</td>\n",
       "    </tr>\n",
       "  </tbody>\n",
       "</table>\n",
       "</div>"
      ],
      "text/plain": [
       "   viewer_uid  age     sex  age_class\n",
       "0    10087154   30    male          1\n",
       "1    10908708   25  female          1\n",
       "2    10190464   34    male          2\n",
       "3    10939673   25    male          1\n",
       "4    10288257   48    male          3"
      ]
     },
     "execution_count": 6,
     "metadata": {},
     "output_type": "execute_result"
    }
   ],
   "source": [
    "train_targets_df.head()"
   ]
  },
  {
   "cell_type": "code",
   "execution_count": 7,
   "metadata": {},
   "outputs": [
    {
     "name": "stdout",
     "output_type": "stream",
     "text": [
      "<class 'pandas.core.frame.DataFrame'>\n",
      "RangeIndex: 180012 entries, 0 to 180011\n",
      "Data columns (total 4 columns):\n",
      " #   Column      Non-Null Count   Dtype \n",
      "---  ------      --------------   ----- \n",
      " 0   viewer_uid  180012 non-null  int64 \n",
      " 1   age         180012 non-null  int64 \n",
      " 2   sex         180012 non-null  object\n",
      " 3   age_class   180012 non-null  int64 \n",
      "dtypes: int64(3), object(1)\n",
      "memory usage: 5.5+ MB\n"
     ]
    }
   ],
   "source": [
    "train_targets_df.info()"
   ]
  },
  {
   "cell_type": "code",
   "execution_count": 23,
   "metadata": {},
   "outputs": [
    {
     "data": {
      "text/html": [
       "<div>\n",
       "<style scoped>\n",
       "    .dataframe tbody tr th:only-of-type {\n",
       "        vertical-align: middle;\n",
       "    }\n",
       "\n",
       "    .dataframe tbody tr th {\n",
       "        vertical-align: top;\n",
       "    }\n",
       "\n",
       "    .dataframe thead th {\n",
       "        text-align: right;\n",
       "    }\n",
       "</style>\n",
       "<table border=\"1\" class=\"dataframe\">\n",
       "  <thead>\n",
       "    <tr style=\"text-align: right;\">\n",
       "      <th></th>\n",
       "      <th>event_timestamp</th>\n",
       "      <th>region</th>\n",
       "      <th>ua_device_type</th>\n",
       "      <th>ua_client_type</th>\n",
       "      <th>ua_os</th>\n",
       "      <th>ua_client_name</th>\n",
       "      <th>total_watchtime</th>\n",
       "      <th>rutube_video_id</th>\n",
       "      <th>viewer_uid</th>\n",
       "    </tr>\n",
       "  </thead>\n",
       "  <tbody>\n",
       "    <tr>\n",
       "      <th>0</th>\n",
       "      <td>2024-06-01 13:08:30+03:00</td>\n",
       "      <td>Tatarstan Republic</td>\n",
       "      <td>smartphone</td>\n",
       "      <td>browser</td>\n",
       "      <td>Android</td>\n",
       "      <td>Chrome Mobile</td>\n",
       "      <td>60</td>\n",
       "      <td>video_395879</td>\n",
       "      <td>10813370</td>\n",
       "    </tr>\n",
       "    <tr>\n",
       "      <th>1</th>\n",
       "      <td>2024-06-01 14:30:00+03:00</td>\n",
       "      <td>Bashkortostan Republic</td>\n",
       "      <td>smartphone</td>\n",
       "      <td>mobile app</td>\n",
       "      <td>Android</td>\n",
       "      <td>Rutube</td>\n",
       "      <td>60</td>\n",
       "      <td>video_216518</td>\n",
       "      <td>10512324</td>\n",
       "    </tr>\n",
       "    <tr>\n",
       "      <th>2</th>\n",
       "      <td>2024-06-01 18:48:12+03:00</td>\n",
       "      <td>Novosibirsk Oblast</td>\n",
       "      <td>smartphone</td>\n",
       "      <td>mobile app</td>\n",
       "      <td>Android</td>\n",
       "      <td>Rutube</td>\n",
       "      <td>121</td>\n",
       "      <td>video_41225</td>\n",
       "      <td>10951137</td>\n",
       "    </tr>\n",
       "    <tr>\n",
       "      <th>3</th>\n",
       "      <td>2024-06-01 16:32:36+03:00</td>\n",
       "      <td>Moscow</td>\n",
       "      <td>desktop</td>\n",
       "      <td>browser</td>\n",
       "      <td>Windows</td>\n",
       "      <td>Yandex Browser</td>\n",
       "      <td>2324</td>\n",
       "      <td>video_215886</td>\n",
       "      <td>10912434</td>\n",
       "    </tr>\n",
       "    <tr>\n",
       "      <th>4</th>\n",
       "      <td>2024-06-01 00:57:04+03:00</td>\n",
       "      <td>Moscow Oblast</td>\n",
       "      <td>smartphone</td>\n",
       "      <td>mobile app</td>\n",
       "      <td>Android</td>\n",
       "      <td>Rutube</td>\n",
       "      <td>6830</td>\n",
       "      <td>video_43631</td>\n",
       "      <td>10223585</td>\n",
       "    </tr>\n",
       "  </tbody>\n",
       "</table>\n",
       "</div>"
      ],
      "text/plain": [
       "            event_timestamp                  region ua_device_type  \\\n",
       "0 2024-06-01 13:08:30+03:00      Tatarstan Republic     smartphone   \n",
       "1 2024-06-01 14:30:00+03:00  Bashkortostan Republic     smartphone   \n",
       "2 2024-06-01 18:48:12+03:00      Novosibirsk Oblast     smartphone   \n",
       "3 2024-06-01 16:32:36+03:00                  Moscow        desktop   \n",
       "4 2024-06-01 00:57:04+03:00           Moscow Oblast     smartphone   \n",
       "\n",
       "  ua_client_type    ua_os  ua_client_name  total_watchtime rutube_video_id  \\\n",
       "0        browser  Android   Chrome Mobile               60    video_395879   \n",
       "1     mobile app  Android          Rutube               60    video_216518   \n",
       "2     mobile app  Android          Rutube              121     video_41225   \n",
       "3        browser  Windows  Yandex Browser             2324    video_215886   \n",
       "4     mobile app  Android          Rutube             6830     video_43631   \n",
       "\n",
       "   viewer_uid  \n",
       "0    10813370  \n",
       "1    10512324  \n",
       "2    10951137  \n",
       "3    10912434  \n",
       "4    10223585  "
      ]
     },
     "execution_count": 23,
     "metadata": {},
     "output_type": "execute_result"
    }
   ],
   "source": [
    "all_events_df.head()"
   ]
  },
  {
   "cell_type": "code",
   "execution_count": 9,
   "metadata": {},
   "outputs": [
    {
     "name": "stdout",
     "output_type": "stream",
     "text": [
      "<class 'pandas.core.frame.DataFrame'>\n",
      "RangeIndex: 8439624 entries, 0 to 8439623\n",
      "Data columns (total 9 columns):\n",
      " #   Column           Dtype                    \n",
      "---  ------           -----                    \n",
      " 0   event_timestamp  datetime64[ns, UTC+03:00]\n",
      " 1   region           object                   \n",
      " 2   ua_device_type   object                   \n",
      " 3   ua_client_type   object                   \n",
      " 4   ua_os            object                   \n",
      " 5   ua_client_name   object                   \n",
      " 6   total_watchtime  int64                    \n",
      " 7   rutube_video_id  object                   \n",
      " 8   viewer_uid       int64                    \n",
      "dtypes: datetime64[ns, UTC+03:00](1), int64(2), object(6)\n",
      "memory usage: 579.5+ MB\n"
     ]
    }
   ],
   "source": [
    "all_events_df.info()"
   ]
  },
  {
   "cell_type": "markdown",
   "metadata": {},
   "source": [
    "## Предобработка данных"
   ]
  },
  {
   "cell_type": "markdown",
   "metadata": {},
   "source": [
    "Создадим словарь регионов из датасета и их стандартизированные наименования по местному времени."
   ]
  },
  {
   "cell_type": "code",
   "execution_count": 152,
   "metadata": {},
   "outputs": [],
   "source": [
    "region_timezones = {\n",
    "    'Moscow': 'Europe/Moscow',                       # +03:00\n",
    "    'Moscow Oblast': 'Europe/Moscow',                # +03:00\n",
    "    'St.-Petersburg': 'Europe/Moscow',               # +03:00\n",
    "    'Sverdlovsk Oblast': 'Asia/Yekaterinburg',       # +05:00\n",
    "    'Sverdlovsk': 'Asia/Yekaterinburg',              # +05:00\n",
    "    'Krasnodar Krai': 'Europe/Moscow',               # +03:00\n",
    "    'Novosibirsk Oblast': 'Asia/Novosibirsk',        # +07:00\n",
    "    'Bashkortostan Republic': 'Asia/Yekaterinburg',  # +05:00\n",
    "    'Samara Oblast': 'Europe/Samara',                # +04:00\n",
    "    'Nizhny Novgorod Oblast': 'Europe/Moscow',       # +03:00\n",
    "    'Chelyabinsk': 'Asia/Yekaterinburg',             # +05:00\n",
    "    'Tatarstan Republic': 'Europe/Moscow',           # +03:00\n",
    "    'Rostov': 'Europe/Moscow',                       # +03:00\n",
    "    'Krasnoyarsk Krai': 'Asia/Krasnoyarsk',          # +07:00\n",
    "    'Perm Krai': 'Asia/Yekaterinburg',               # +05:00\n",
    "    'Leningradskaya Oblast\\'': 'Europe/Moscow',      # +03:00\n",
    "    'Yaroslavl Oblast': 'Europe/Moscow',             # +03:00\n",
    "    'Irkutsk Oblast': 'Asia/Irkutsk',                # +08:00\n",
    "    'Saratov Oblast': 'Europe/Saratov',              # +04:00\n",
    "    'Voronezh Oblast': 'Europe/Moscow',              # +03:00\n",
    "    'Stavropol Kray': 'Europe/Moscow',               # +03:00\n",
    "    'Primorye': 'Asia/Vladivostok',                  # +10:00\n",
    "    'Khabarovsk': 'Asia/Vladivostok',                # +10:00\n",
    "    'Volgograd Oblast': 'Europe/Volgograd',          # +03:00\n",
    "    'Amur Oblast': 'Asia/Yakutsk',                   # +09:00\n",
    "    'Khanty-Mansia': 'Asia/Yekaterinburg',           # +05:00\n",
    "    'Kuzbass': 'Asia/Novokuznetsk',                  # +07:00\n",
    "    'Omsk Oblast': 'Asia/Omsk',                      # +06:00\n",
    "    'Tula Oblast': 'Europe/Moscow',                  # +03:00\n",
    "    'Udmurtiya Republic': 'Europe/Samara',           # +04:00\n",
    "    'Orenburg Oblast': 'Asia/Yekaterinburg',         # +05:00\n",
    "    'Altay Kray': 'Asia/Barnaul',                    # +07:00\n",
    "    'Tomsk Oblast': 'Asia/Tomsk',                    # +07:00\n",
    "    'Khakasiya Republic': 'Asia/Krasnoyarsk',        # +07:00\n",
    "    'Vladimir Oblast': 'Europe/Moscow',              # +03:00\n",
    "    'Tver Oblast': 'Europe/Moscow',                  # +03:00\n",
    "    'Tyumen Oblast': 'Asia/Yekaterinburg',           # +05:00\n",
    "    'Belgorod Oblast': 'Europe/Moscow',              # +03:00\n",
    "    'Ryazan Oblast': 'Europe/Moscow',                # +03:00\n",
    "    'Kaliningrad Oblast': 'Europe/Kaliningrad',      # +02:00\n",
    "    'Ulyanovsk': 'Europe/Samara',                    # +04:00\n",
    "    'Arkhangelskaya': 'Europe/Moscow',               # +03:00\n",
    "    'Chuvashia': 'Europe/Moscow',                    # +03:00\n",
    "    'Lipetsk Oblast': 'Europe/Moscow',               # +03:00\n",
    "    'Vologda Oblast': 'Europe/Moscow',               # +03:00\n",
    "    'Novgorod Oblast': 'Europe/Moscow',              # +03:00\n",
    "    'Murmansk': 'Europe/Moscow',                     # +03:00\n",
    "    'Smolensk Oblast': 'Europe/Moscow',              # +03:00\n",
    "    'Buryatiya Republic': 'Asia/Irkutsk',            # +08:00\n",
    "    'Tambov Oblast': 'Europe/Moscow',                # +03:00\n",
    "    'Bryansk Oblast': 'Europe/Moscow',               # +03:00\n",
    "    'Komi': 'Europe/Moscow',                         # +03:00\n",
    "    'Kirov Oblast': 'Europe/Moscow',                 # +03:00\n",
    "    'Kemerovo Oblast': 'Asia/Novokuznetsk',          # +07:00\n",
    "    'Adygeya Republic': 'Europe/Moscow',             # +03:00\n",
    "    'Sakha': 'Asia/Yakutsk',                         # +09:00\n",
    "    'Kostroma Oblast': 'Europe/Moscow',              # +03:00\n",
    "    'Astrakhan Oblast': 'Europe/Volgograd',          # +03:00\n",
    "    'Kamchatka': 'Asia/Kamchatka',                   # +12:00\n",
    "    'Sakhalin Oblast': 'Asia/Sakhalin',              # +11:00\n",
    "    'Zabaykalskiy (Transbaikal) Kray': 'Asia/Chita', # +09:00\n",
    "    'Yamalo-Nenets': 'Asia/Yekaterinburg',           # +05:00\n",
    "    'Dagestan': 'Europe/Moscow',                     # +03:00\n",
    "    'Karelia': 'Europe/Moscow',                      # +03:00\n",
    "    'Pskov Oblast': 'Europe/Moscow',                 # +03:00\n",
    "    'Kursk Oblast': 'Europe/Moscow',                 # +03:00\n",
    "    'Kursk': 'Europe/Moscow',                        # +03:00\n",
    "    'Oryol oblast': 'Europe/Moscow',                 # +03:00\n",
    "    'Mordoviya Republic': 'Europe/Moscow',           # +03:00\n",
    "    'Mariy-El Republic': 'Europe/Moscow',            # +03:00\n",
    "    'North Ossetia–Alania': 'Europe/Moscow',         # +03:00\n",
    "    'Vladimir': 'Europe/Moscow',                     # +03:00\n",
    "    'Saratovskaya Oblast': 'Europe/Saratov',         # +04:00\n",
    "    'Tula': 'Europe/Moscow',                         # +03:00\n",
    "    'Voronezj': 'Europe/Moscow',                     # +03:00\n",
    "    'Chukotka': 'Asia/Anadyr',                       # +12:00\n",
    "    'Crimea': 'Europe/Simferopol',                   # +03:00\n",
    "    'Kalmykiya Republic': 'Europe/Volgograd',        # +03:00\n",
    "    'Tyva Republic': 'Asia/Krasnoyarsk',             # +07:00\n",
    "    'Jewish Autonomous Oblast': 'Asia/Vladivostok',  # +10:00\n",
    "    'Transbaikal Territory': 'Asia/Chita',           # +09:00\n",
    "    'Ingushetiya Republic': 'Europe/Moscow',         # +03:00\n",
    "    'Omsk': 'Asia/Omsk',                             # +06:00\n",
    "    'Stavropol’ Kray': 'Europe/Moscow',              # +03:00\n",
    "    'Arkhangelsk Oblast': 'Europe/Moscow',           # +03:00\n",
    "    'Astrakhan': 'Europe/Volgograd',                 # +03:00\n",
    "    'Penza Oblast': 'Europe/Moscow',\n",
    "    'Kurgan Oblast': 'Asia/Yekaterinburg',\n",
    "    'Kaluga Oblast': 'Europe/Moscow', \n",
    "    'Ivanovo Oblast': 'Europe/Moscow',\n",
    "    'Krasnodarskiy': 'Europe/Moscow',\n",
    "    'Krasnoyarskiy Krai': 'Asia/Krasnoyarsk',  # Добавлен Красноярский край\n",
    "    'Krasnoyarskiy': 'Asia/Krasnoyarsk',  # Добавлен Красноярский край\n",
    "    'Chechnya': 'Europe/Moscow',\n",
    "    'Karachayevo-Cherkesiya Republic': 'Europe/Moscow',\n",
    "    'Magadan Oblast': 'Asia/Magadan',\n",
    "    'Altai': 'Asia/Barnaul',  # Для обозначения обоих регионов\n",
    "    'Ivanovo': 'Europe/Moscow',  # Иваново\n",
    "    'Jaroslavl': 'Europe/Moscow',  # Ярославль (обычно \"Yaroslavl\" на английском)\n",
    "    'Kabardino-Balkariya Republic': 'Europe/Moscow',  # Кабардино-Балкария\n",
    "    'Kaliningrad': 'Europe/Kaliningrad',  # Калининград\n",
    "    'Kaluga': 'Europe/Moscow',  # Калуга\n",
    "    'Kirov': 'Europe/Moscow',  # Киров\n",
    "    'Nenets': 'Europe/Moscow',  # Ненецкий автономный округ\n",
    "    'North Ossetia': 'Europe/Moscow',  # Северная Осетия\n",
    "    'Orel Oblast': 'Europe/Moscow',  # Орловская область\n",
    "    'Penza': 'Europe/Moscow',  # Пенза\n",
    "    'Perm': 'Asia/Yekaterinburg',  # Пермь (Пермский край)\n",
    "    'Primorskiy (Maritime) Kray': 'Asia/Vladivostok',  # Приморский край\n",
    "    'Sebastopol City': 'Europe/Simferopol',  # Севастополь\n",
    "    'Smolensk': 'Europe/Moscow',  # Смоленск\n",
    "    'Smolenskaya Oblast’': 'Europe/Moscow',  # Смоленская область\n",
    "    'Stavropol Krai': 'Europe/Moscow',  # Ставропольский край\n",
    "    'Tambov': 'Europe/Moscow',  # Тамбов\n",
    "    'Tver’ Oblast': 'Europe/Moscow',  # Тверская область\n",
    "    'Tyumen’ Oblast': 'Asia/Yekaterinburg',  # Тюменская область\n",
    "    'Vologda': 'Europe/Moscow',  # Вологда\n",
    "}"
   ]
  },
  {
   "cell_type": "code",
   "execution_count": 187,
   "metadata": {},
   "outputs": [],
   "source": [
    "# Применяем функцию к каждому ряду\n",
    "train_events_df['local_time'] = train_events_df.apply(convert_to_local_time, axis=1)"
   ]
  },
  {
   "cell_type": "code",
   "execution_count": null,
   "metadata": {},
   "outputs": [],
   "source": [
    "train_events_df['local_time'] = pd.to_datetime(train_events_df['local_time'])"
   ]
  },
  {
   "cell_type": "code",
   "execution_count": 192,
   "metadata": {},
   "outputs": [
    {
     "data": {
      "text/html": [
       "<div>\n",
       "<style scoped>\n",
       "    .dataframe tbody tr th:only-of-type {\n",
       "        vertical-align: middle;\n",
       "    }\n",
       "\n",
       "    .dataframe tbody tr th {\n",
       "        vertical-align: top;\n",
       "    }\n",
       "\n",
       "    .dataframe thead th {\n",
       "        text-align: right;\n",
       "    }\n",
       "</style>\n",
       "<table border=\"1\" class=\"dataframe\">\n",
       "  <thead>\n",
       "    <tr style=\"text-align: right;\">\n",
       "      <th></th>\n",
       "      <th>event_timestamp</th>\n",
       "      <th>region</th>\n",
       "      <th>ua_device_type</th>\n",
       "      <th>ua_client_type</th>\n",
       "      <th>ua_os</th>\n",
       "      <th>ua_client_name</th>\n",
       "      <th>total_watchtime</th>\n",
       "      <th>rutube_video_id</th>\n",
       "      <th>viewer_uid</th>\n",
       "      <th>local_time</th>\n",
       "    </tr>\n",
       "  </thead>\n",
       "  <tbody>\n",
       "    <tr>\n",
       "      <th>0</th>\n",
       "      <td>2024-06-01 06:40:58+03:00</td>\n",
       "      <td>Chelyabinsk</td>\n",
       "      <td>desktop</td>\n",
       "      <td>browser</td>\n",
       "      <td>Windows</td>\n",
       "      <td>Yandex Browser</td>\n",
       "      <td>1883</td>\n",
       "      <td>video_133074</td>\n",
       "      <td>10067243</td>\n",
       "      <td>2024-06-01 08:40:58</td>\n",
       "    </tr>\n",
       "    <tr>\n",
       "      <th>1</th>\n",
       "      <td>2024-06-01 19:33:24+03:00</td>\n",
       "      <td>Bashkortostan Republic</td>\n",
       "      <td>smartphone</td>\n",
       "      <td>mobile app</td>\n",
       "      <td>Android</td>\n",
       "      <td>Rutube</td>\n",
       "      <td>512</td>\n",
       "      <td>video_362960</td>\n",
       "      <td>10245341</td>\n",
       "      <td>2024-06-01 21:33:24</td>\n",
       "    </tr>\n",
       "    <tr>\n",
       "      <th>2</th>\n",
       "      <td>2024-06-01 21:30:43+03:00</td>\n",
       "      <td>St.-Petersburg</td>\n",
       "      <td>desktop</td>\n",
       "      <td>browser</td>\n",
       "      <td>Windows</td>\n",
       "      <td>Chrome</td>\n",
       "      <td>5647</td>\n",
       "      <td>video_96775</td>\n",
       "      <td>10894333</td>\n",
       "      <td>2024-06-01 21:30:43</td>\n",
       "    </tr>\n",
       "    <tr>\n",
       "      <th>3</th>\n",
       "      <td>2024-06-01 23:03:42+03:00</td>\n",
       "      <td>Moscow</td>\n",
       "      <td>smartphone</td>\n",
       "      <td>mobile app</td>\n",
       "      <td>Android</td>\n",
       "      <td>Rutube</td>\n",
       "      <td>1521</td>\n",
       "      <td>video_161610</td>\n",
       "      <td>10029092</td>\n",
       "      <td>2024-06-01 23:03:42</td>\n",
       "    </tr>\n",
       "    <tr>\n",
       "      <th>4</th>\n",
       "      <td>2024-06-01 22:48:09+03:00</td>\n",
       "      <td>Moscow</td>\n",
       "      <td>smartphone</td>\n",
       "      <td>mobile app</td>\n",
       "      <td>Android</td>\n",
       "      <td>Rutube</td>\n",
       "      <td>71</td>\n",
       "      <td>video_116245</td>\n",
       "      <td>10452976</td>\n",
       "      <td>2024-06-01 22:48:09</td>\n",
       "    </tr>\n",
       "  </tbody>\n",
       "</table>\n",
       "</div>"
      ],
      "text/plain": [
       "            event_timestamp                  region ua_device_type  \\\n",
       "0 2024-06-01 06:40:58+03:00             Chelyabinsk        desktop   \n",
       "1 2024-06-01 19:33:24+03:00  Bashkortostan Republic     smartphone   \n",
       "2 2024-06-01 21:30:43+03:00          St.-Petersburg        desktop   \n",
       "3 2024-06-01 23:03:42+03:00                  Moscow     smartphone   \n",
       "4 2024-06-01 22:48:09+03:00                  Moscow     smartphone   \n",
       "\n",
       "  ua_client_type    ua_os  ua_client_name  total_watchtime rutube_video_id  \\\n",
       "0        browser  Windows  Yandex Browser             1883    video_133074   \n",
       "1     mobile app  Android          Rutube              512    video_362960   \n",
       "2        browser  Windows          Chrome             5647     video_96775   \n",
       "3     mobile app  Android          Rutube             1521    video_161610   \n",
       "4     mobile app  Android          Rutube               71    video_116245   \n",
       "\n",
       "   viewer_uid          local_time  \n",
       "0    10067243 2024-06-01 08:40:58  \n",
       "1    10245341 2024-06-01 21:33:24  \n",
       "2    10894333 2024-06-01 21:30:43  \n",
       "3    10029092 2024-06-01 23:03:42  \n",
       "4    10452976 2024-06-01 22:48:09  "
      ]
     },
     "execution_count": 192,
     "metadata": {},
     "output_type": "execute_result"
    }
   ],
   "source": [
    "train_events_df.head()"
   ]
  },
  {
   "cell_type": "code",
   "execution_count": 189,
   "metadata": {},
   "outputs": [
    {
     "name": "stdout",
     "output_type": "stream",
     "text": [
      "<class 'pandas.core.frame.DataFrame'>\n",
      "RangeIndex: 1759616 entries, 0 to 1759615\n",
      "Data columns (total 10 columns):\n",
      " #   Column           Dtype                    \n",
      "---  ------           -----                    \n",
      " 0   event_timestamp  datetime64[ns, UTC+03:00]\n",
      " 1   region           object                   \n",
      " 2   ua_device_type   object                   \n",
      " 3   ua_client_type   object                   \n",
      " 4   ua_os            object                   \n",
      " 5   ua_client_name   object                   \n",
      " 6   total_watchtime  int64                    \n",
      " 7   rutube_video_id  object                   \n",
      " 8   viewer_uid       int64                    \n",
      " 9   local_time       object                   \n",
      "dtypes: datetime64[ns, UTC+03:00](1), int64(2), object(7)\n",
      "memory usage: 134.2+ MB\n"
     ]
    }
   ],
   "source": [
    "train_events_df.info()"
   ]
  },
  {
   "cell_type": "code",
   "execution_count": 194,
   "metadata": {},
   "outputs": [
    {
     "data": {
      "text/plain": [
       "<Axes: xlabel='local_time'>"
      ]
     },
     "execution_count": 194,
     "metadata": {},
     "output_type": "execute_result"
    },
    {
     "data": {
      "image/png": "[encoded data removed]",
      "text/plain": [
       "<Figure size 640x480 with 1 Axes>"
      ]
     },
     "metadata": {},
     "output_type": "display_data"
    }
   ],
   "source": [
    "train_events_df[['total_watchtime', 'local_time']].set_index('local_time').plot(style='o', alpha=0.3)\n"
   ]
  },
  {
   "cell_type": "code",
   "execution_count": 195,
   "metadata": {},
   "outputs": [
    {
     "name": "stdout",
     "output_type": "stream",
     "text": [
      "<class 'pandas.core.frame.DataFrame'>\n",
      "RangeIndex: 1759616 entries, 0 to 1759615\n",
      "Data columns (total 10 columns):\n",
      " #   Column           Dtype                    \n",
      "---  ------           -----                    \n",
      " 0   event_timestamp  datetime64[ns, UTC+03:00]\n",
      " 1   region           object                   \n",
      " 2   ua_device_type   object                   \n",
      " 3   ua_client_type   object                   \n",
      " 4   ua_os            object                   \n",
      " 5   ua_client_name   object                   \n",
      " 6   total_watchtime  int64                    \n",
      " 7   rutube_video_id  object                   \n",
      " 8   viewer_uid       int64                    \n",
      " 9   local_time       datetime64[ns]           \n",
      "dtypes: datetime64[ns, UTC+03:00](1), datetime64[ns](1), int64(2), object(6)\n",
      "memory usage: 134.2+ MB\n"
     ]
    }
   ],
   "source": [
    "train_events_df.info()"
   ]
  },
  {
   "cell_type": "markdown",
   "metadata": {},
   "source": [
    "Количество дубликатов по id в all_event."
   ]
  },
  {
   "cell_type": "code",
   "execution_count": 10,
   "metadata": {},
   "outputs": [
    {
     "data": {
      "text/plain": [
       "786206"
      ]
     },
     "execution_count": 10,
     "metadata": {},
     "output_type": "execute_result"
    }
   ],
   "source": [
    "all_events_df[['rutube_video_id' ,'viewer_uid']].duplicated().sum()"
   ]
  },
  {
   "cell_type": "code",
   "execution_count": 49,
   "metadata": {},
   "outputs": [
    {
     "name": "stdout",
     "output_type": "stream",
     "text": [
      "8439624\n"
     ]
    },
    {
     "data": {
      "text/plain": [
       "960885"
      ]
     },
     "execution_count": 49,
     "metadata": {},
     "output_type": "execute_result"
    }
   ],
   "source": [
    "print(len(all_events_df['viewer_uid']))\n",
    "all_events_df['viewer_uid'].nunique()\n"
   ]
  },
  {
   "cell_type": "code",
   "execution_count": 33,
   "metadata": {},
   "outputs": [
    {
     "data": {
      "text/plain": [
       "180012"
      ]
     },
     "execution_count": 33,
     "metadata": {},
     "output_type": "execute_result"
    }
   ],
   "source": [
    "train_events_df['viewer_uid'].nunique()"
   ]
  },
  {
   "cell_type": "code",
   "execution_count": 34,
   "metadata": {},
   "outputs": [
    {
     "data": {
      "text/plain": [
       "<Axes: >"
      ]
     },
     "execution_count": 34,
     "metadata": {},
     "output_type": "execute_result"
    },
    {
     "data": {
      "image/png": "[encoded data removed]",
      "text/plain": [
       "<Figure size 640x480 with 1 Axes>"
      ]
     },
     "metadata": {},
     "output_type": "display_data"
    }
   ],
   "source": [
    "train_targets_df['age_class'].hist()"
   ]
  }
 ],
 "metadata": {
  "kernelspec": {
   "display_name": "socdem",
   "language": "python",
   "name": "python3"
  },
  "language_info": {
   "codemirror_mode": {
    "name": "ipython",
    "version": 3
   },
   "file_extension": ".py",
   "mimetype": "text/x-python",
   "name": "python",
   "nbconvert_exporter": "python",
   "pygments_lexer": "ipython3",
   "version": "3.12.5"
  }
 },
 "nbformat": 4,
 "nbformat_minor": 2
}
