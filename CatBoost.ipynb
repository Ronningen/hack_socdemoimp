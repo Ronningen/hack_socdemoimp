{
 "cells": [
  {
   "cell_type": "code",
   "execution_count": 75,
   "id": "3dbe0fe4-71db-4dea-918e-9ca5aea27625",
   "metadata": {},
   "outputs": [
    {
     "name": "stdout",
     "output_type": "stream",
     "text": [
      "INFO: Pandarallel will run on 8 workers.\n",
      "INFO: Pandarallel will use standard multiprocessing data transfer (pipe) to transfer data between the main process and workers.\n"
     ]
    }
   ],
   "source": [
    "import pandas as pd\n",
    "from sklearn.model_selection import train_test_split\n",
    "from sklearn.metrics import f1_score, accuracy_score\n",
    "\n",
    "from collections import Counter\n",
    "\n",
    "from heapq import nlargest\n",
    "import numpy as np\n",
    "import scipy as sp\n",
    "import seaborn as sns\n",
    "from sklearn.preprocessing import LabelEncoder\n",
    "import matplotlib.pyplot as plt\n",
    "\n",
    "from tqdm import tqdm\n",
    "# tqdm.pandas()\n",
    "from pandarallel import pandarallel\n",
    "pandarallel.initialize(progress_bar=True)\n",
    "\n",
    "def get_mode(row): # Кастомная функция вычисления модального значения категориального признака\n",
    "    counter = Counter(row)\n",
    "    (most_common, _) = counter.most_common(1)[0]\n",
    "\n",
    "    return most_common"
   ]
  },
  {
   "cell_type": "code",
   "execution_count": null,
   "id": "0001df84",
   "metadata": {},
   "outputs": [],
   "source": [
    "from datetime import datetime\n",
    "import pytz\n",
    "\n",
    "region_timezones = {\n",
    "    'Moscow': 'Europe/Moscow',                       # +03:00\n",
    "    'Moscow Oblast': 'Europe/Moscow',                # +03:00\n",
    "    'St.-Petersburg': 'Europe/Moscow',               # +03:00\n",
    "    'Sverdlovsk Oblast': 'Asia/Yekaterinburg',       # +05:00\n",
    "    'Sverdlovsk': 'Asia/Yekaterinburg',              # +05:00\n",
    "    'Krasnodar Krai': 'Europe/Moscow',               # +03:00\n",
    "    'Novosibirsk Oblast': 'Asia/Novosibirsk',        # +07:00\n",
    "    'Bashkortostan Republic': 'Asia/Yekaterinburg',  # +05:00\n",
    "    'Samara Oblast': 'Europe/Samara',                # +04:00\n",
    "    'Nizhny Novgorod Oblast': 'Europe/Moscow',       # +03:00\n",
    "    'Chelyabinsk': 'Asia/Yekaterinburg',             # +05:00\n",
    "    'Tatarstan Republic': 'Europe/Moscow',           # +03:00\n",
    "    'Rostov': 'Europe/Moscow',                       # +03:00\n",
    "    'Krasnoyarsk Krai': 'Asia/Krasnoyarsk',          # +07:00\n",
    "    'Perm Krai': 'Asia/Yekaterinburg',               # +05:00\n",
    "    'Leningradskaya Oblast\\'': 'Europe/Moscow',      # +03:00\n",
    "    'Yaroslavl Oblast': 'Europe/Moscow',             # +03:00\n",
    "    'Irkutsk Oblast': 'Asia/Irkutsk',                # +08:00\n",
    "    'Saratov Oblast': 'Europe/Saratov',              # +04:00\n",
    "    'Voronezh Oblast': 'Europe/Moscow',              # +03:00\n",
    "    'Stavropol Kray': 'Europe/Moscow',               # +03:00\n",
    "    'Primorye': 'Asia/Vladivostok',                  # +10:00\n",
    "    'Khabarovsk': 'Asia/Vladivostok',                # +10:00\n",
    "    'Volgograd Oblast': 'Europe/Volgograd',          # +03:00\n",
    "    'Amur Oblast': 'Asia/Yakutsk',                   # +09:00\n",
    "    'Khanty-Mansia': 'Asia/Yekaterinburg',           # +05:00\n",
    "    'Kuzbass': 'Asia/Novokuznetsk',                  # +07:00\n",
    "    'Omsk Oblast': 'Asia/Omsk',                      # +06:00\n",
    "    'Tula Oblast': 'Europe/Moscow',                  # +03:00\n",
    "    'Udmurtiya Republic': 'Europe/Samara',           # +04:00\n",
    "    'Orenburg Oblast': 'Asia/Yekaterinburg',         # +05:00\n",
    "    'Altay Kray': 'Asia/Barnaul',                    # +07:00\n",
    "    'Tomsk Oblast': 'Asia/Tomsk',                    # +07:00\n",
    "    'Khakasiya Republic': 'Asia/Krasnoyarsk',        # +07:00\n",
    "    'Vladimir Oblast': 'Europe/Moscow',              # +03:00\n",
    "    'Tver Oblast': 'Europe/Moscow',                  # +03:00\n",
    "    'Tyumen Oblast': 'Asia/Yekaterinburg',           # +05:00\n",
    "    'Belgorod Oblast': 'Europe/Moscow',              # +03:00\n",
    "    'Ryazan Oblast': 'Europe/Moscow',                # +03:00\n",
    "    'Kaliningrad Oblast': 'Europe/Kaliningrad',      # +02:00\n",
    "    'Ulyanovsk': 'Europe/Samara',                    # +04:00\n",
    "    'Arkhangelskaya': 'Europe/Moscow',               # +03:00\n",
    "    'Chuvashia': 'Europe/Moscow',                    # +03:00\n",
    "    'Lipetsk Oblast': 'Europe/Moscow',               # +03:00\n",
    "    'Vologda Oblast': 'Europe/Moscow',               # +03:00\n",
    "    'Novgorod Oblast': 'Europe/Moscow',              # +03:00\n",
    "    'Murmansk': 'Europe/Moscow',                     # +03:00\n",
    "    'Smolensk Oblast': 'Europe/Moscow',              # +03:00\n",
    "    'Buryatiya Republic': 'Asia/Irkutsk',            # +08:00\n",
    "    'Tambov Oblast': 'Europe/Moscow',                # +03:00\n",
    "    'Bryansk Oblast': 'Europe/Moscow',               # +03:00\n",
    "    'Komi': 'Europe/Moscow',                         # +03:00\n",
    "    'Kirov Oblast': 'Europe/Moscow',                 # +03:00\n",
    "    'Kemerovo Oblast': 'Asia/Novokuznetsk',          # +07:00\n",
    "    'Adygeya Republic': 'Europe/Moscow',             # +03:00\n",
    "    'Sakha': 'Asia/Yakutsk',                         # +09:00\n",
    "    'Kostroma Oblast': 'Europe/Moscow',              # +03:00\n",
    "    'Astrakhan Oblast': 'Europe/Volgograd',          # +03:00\n",
    "    'Kamchatka': 'Asia/Kamchatka',                   # +12:00\n",
    "    'Sakhalin Oblast': 'Asia/Sakhalin',              # +11:00\n",
    "    'Zabaykalskiy (Transbaikal) Kray': 'Asia/Chita', # +09:00\n",
    "    'Yamalo-Nenets': 'Asia/Yekaterinburg',           # +05:00\n",
    "    'Dagestan': 'Europe/Moscow',                     # +03:00\n",
    "    'Karelia': 'Europe/Moscow',                      # +03:00\n",
    "    'Pskov Oblast': 'Europe/Moscow',                 # +03:00\n",
    "    'Kursk Oblast': 'Europe/Moscow',                 # +03:00\n",
    "    'Kursk': 'Europe/Moscow',                        # +03:00\n",
    "    'Oryol oblast': 'Europe/Moscow',                 # +03:00\n",
    "    'Mordoviya Republic': 'Europe/Moscow',           # +03:00\n",
    "    'Mariy-El Republic': 'Europe/Moscow',            # +03:00\n",
    "    'North Ossetia–Alania': 'Europe/Moscow',         # +03:00\n",
    "    'Vladimir': 'Europe/Moscow',                     # +03:00\n",
    "    'Saratovskaya Oblast': 'Europe/Saratov',         # +04:00\n",
    "    'Tula': 'Europe/Moscow',                         # +03:00\n",
    "    'Voronezj': 'Europe/Moscow',                     # +03:00\n",
    "    'Chukotka': 'Asia/Anadyr',                       # +12:00\n",
    "    'Crimea': 'Europe/Simferopol',                   # +03:00\n",
    "    'Kalmykiya Republic': 'Europe/Volgograd',        # +03:00\n",
    "    'Tyva Republic': 'Asia/Krasnoyarsk',             # +07:00\n",
    "    'Jewish Autonomous Oblast': 'Asia/Vladivostok',  # +10:00\n",
    "    'Transbaikal Territory': 'Asia/Chita',           # +09:00\n",
    "    'Ingushetiya Republic': 'Europe/Moscow',         # +03:00\n",
    "    'Omsk': 'Asia/Omsk',                             # +06:00\n",
    "    'Stavropol’ Kray': 'Europe/Moscow',              # +03:00\n",
    "    'Arkhangelsk Oblast': 'Europe/Moscow',           # +03:00\n",
    "    'Astrakhan': 'Europe/Volgograd',                 # +03:00\n",
    "    'Penza Oblast': 'Europe/Moscow',\n",
    "    'Kurgan Oblast': 'Asia/Yekaterinburg',\n",
    "    'Kaluga Oblast': 'Europe/Moscow',\n",
    "    'Ivanovo Oblast': 'Europe/Moscow',\n",
    "    'Krasnodarskiy': 'Europe/Moscow',\n",
    "    'Krasnoyarskiy Krai': 'Asia/Krasnoyarsk',  # Добавлен Красноярский край\n",
    "    'Krasnoyarskiy': 'Asia/Krasnoyarsk',  # Добавлен Красноярский край\n",
    "    'Chechnya': 'Europe/Moscow',\n",
    "    'Karachayevo-Cherkesiya Republic': 'Europe/Moscow',\n",
    "    'Magadan Oblast': 'Asia/Magadan',\n",
    "    'Altai': 'Asia/Barnaul',  # Для обозначения обоих регионов\n",
    "    'Ivanovo': 'Europe/Moscow',  # Иваново\n",
    "    'Jaroslavl': 'Europe/Moscow',  # Ярославль (обычно \"Yaroslavl\" на английском)\n",
    "    'Kabardino-Balkariya Republic': 'Europe/Moscow',  # Кабардино-Балкария\n",
    "    'Kaliningrad': 'Europe/Kaliningrad',  # Калининград\n",
    "    'Kaluga': 'Europe/Moscow',  # Калуга\n",
    "    'Kirov': 'Europe/Moscow',  # Киров\n",
    "    'Nenets': 'Europe/Moscow',  # Ненецкий автономный округ\n",
    "    'North Ossetia': 'Europe/Moscow',  # Северная Осетия\n",
    "    'Orel Oblast': 'Europe/Moscow',  # Орловская область\n",
    "    'Penza': 'Europe/Moscow',  # Пенза\n",
    "    'Perm': 'Asia/Yekaterinburg',  # Пермь (Пермский край)\n",
    "    'Primorskiy (Maritime) Kray': 'Asia/Vladivostok',  # Приморский край\n",
    "    'Sebastopol City': 'Europe/Simferopol',  # Севастополь\n",
    "    'Smolensk': 'Europe/Moscow',  # Смоленск\n",
    "    'Smolenskaya Oblast’': 'Europe/Moscow',  # Смоленская область\n",
    "    'Stavropol Krai': 'Europe/Moscow',  # Ставропольский край\n",
    "    'Tambov': 'Europe/Moscow',  # Тамбов\n",
    "    'Tver’ Oblast': 'Europe/Moscow',  # Тверская область\n",
    "    'Tyumen’ Oblast': 'Asia/Yekaterinburg',  # Тюменская область\n",
    "    'Vologda': 'Europe/Moscow',  # Вологда\n",
    "}\n",
    "\n",
    "# Функция для перевода времени\n",
    "def convert_to_local_time(row):\n",
    "    # Парсим timestamp\n",
    "    event_time = pd.to_datetime(row['event_timestamp'])\n",
    "\n",
    "    # Получаем часовой пояс региона\n",
    "    region_name = row['region']\n",
    "    if region_name in region_timezones:\n",
    "        timezone = pytz.timezone(region_timezones[region_name])\n",
    "    else:\n",
    "        raise ValueError(f\"Unknown region: {region_name}\")\n",
    "\n",
    "    # Переводим в местное время\n",
    "    local_time = event_time.astimezone(timezone)\n",
    "    local_time = local_time.strftime('%Y-%m-%d %H:%M:%S')\n",
    "\n",
    "    return local_time"
   ]
  },
  {
   "cell_type": "code",
   "execution_count": 2,
   "id": "9b75755d-6b33-434d-b51d-cb58ba292bd9",
   "metadata": {},
   "outputs": [],
   "source": [
    "path = './' # Ваш путь до директории с данными /path/to/data/\n",
    "data = pd.read_csv(path + 'train_events.csv')\n",
    "video = pd.read_csv(path + 'video_info_v2.csv')\n",
    "targets = pd.read_csv(path + 'train_targets.csv')"
   ]
  },
  {
   "cell_type": "markdown",
   "id": "f14d9843-829e-4844-b741-0932be04492a",
   "metadata": {},
   "source": [
    "# Предсказание социально-демографических характеристик пользователей Rutube\n",
    "    Пользователи RUTUBE не всегда указывают свои данные, такие как возраст и пол, что затрудняет формирование портрета пользователя и создание персонализированных рекомендаций. Это ограничивает возможности платформы в предоставлении контента, который наиболее подходит интересам и потребностям пользователей, тем самым ухудшая пользовательский опыт.\n",
    "\n",
    "    Необходимо разработать модель, которая на основе истории просмотров сможет предсказывать пол и возраст пользователя. В качестве baseline решения мы предоставляем этот ноутбук.\n"
   ]
  },
  {
   "cell_type": "code",
   "execution_count": 3,
   "id": "b005f8c3-737d-490d-b926-063a6969dbfb",
   "metadata": {},
   "outputs": [],
   "source": [
    "TRAIN_IDS, VAL_IDS = train_test_split(data['viewer_uid'].unique(), train_size=0.8, shuffle=True, random_state=11)"
   ]
  },
  {
   "cell_type": "markdown",
   "id": "a31fc427-7c86-4a3e-9386-5e0434282e66",
   "metadata": {},
   "source": [
    "# Categorial EDA "
   ]
  },
  {
   "cell_type": "code",
   "execution_count": 110,
   "id": "98a9466a",
   "metadata": {},
   "outputs": [],
   "source": [
    "data['timezone'] = pd.Series(region_timezones).loc[data['region']].values\n",
    "data['local_event_timestamp'] = data.apply(convert_to_local_time, 1)\n",
    "data['weekday'] = pd.to_datetime(data['local_event_timestamp']).dt.weekday % 5\n",
    "data['part of day'] = pd.to_datetime(data['local_event_timestamp']).dt.hour % 6"
   ]
  },
  {
   "cell_type": "code",
   "execution_count": 101,
   "id": "f3014b33",
   "metadata": {},
   "outputs": [
    {
     "name": "stderr",
     "output_type": "stream",
     "text": [
      "/var/folders/1j/52ghjy5x1v13yrj1b6fgwlcc0000gn/T/ipykernel_33550/105563554.py:5: SettingWithCopyWarning: \n",
      "A value is trying to be set on a copy of a slice from a DataFrame.\n",
      "Try using .loc[row_indexer,col_indexer] = value instead\n",
      "\n",
      "See the caveats in the documentation: https://pandas.pydata.org/pandas-docs/stable/user_guide/indexing.html#returning-a-view-versus-a-copy\n",
      "  val_targets.loc[:, 'age_class'] = pd.cut(val_targets['age'], bins=age_class_bins, labels=[0, 1, 2, 3])\n"
     ]
    }
   ],
   "source": [
    "events = data.merge(video, 'left')\n",
    "train_events = events[events['viewer_uid'].isin(TRAIN_IDS)].merge(targets, on='viewer_uid', how='inner')\n",
    "val_targets = targets[targets['viewer_uid'].isin(VAL_IDS)]\n",
    "age_class_bins = [9, 20, 30, 40, 60] # Возрастные категории пользователей, подробнее в файле с описанием данных\n",
    "val_targets.loc[:, 'age_class'] = pd.cut(val_targets['age'], bins=age_class_bins, labels=[0, 1, 2, 3])\n",
    "val_targets = val_targets.sort_values(by='viewer_uid').reset_index(drop=True)"
   ]
  },
  {
   "cell_type": "code",
   "execution_count": 184,
   "id": "5123d1de",
   "metadata": {},
   "outputs": [],
   "source": [
    "def check(predicts):\n",
    "    age_class_bins = [0, 20, 30, 40, 60] # Возрастные категории пользователей, подробнее в файле с описанием данных\n",
    "    predicts['age_class'] = pd.cut(predicts['age'], bins=age_class_bins, labels=[0, 1, 2, 3])\n",
    "    predicts = predicts.sort_values(by='viewer_uid').reset_index(drop=True)\n",
    "\n",
    "    f1_weighted = f1_score(val_targets['age_class'], predicts['age_class'], average='weighted')\n",
    "    accuracy = accuracy_score(val_targets['sex'], predicts['sex'])\n",
    "\n",
    "    final_score = 0.7 * f1_weighted + 0.3 * accuracy\n",
    "    print(f'Weighted F1 = {f1_weighted:.4f} \\tAccuracy = {accuracy:.4f} \\tFinal Score = {final_score:.4f}')"
   ]
  },
  {
   "cell_type": "code",
   "execution_count": 126,
   "id": "02005dd5-ee67-4f3a-b4d9-c7e341594955",
   "metadata": {},
   "outputs": [],
   "source": [
    "def aggregate_mode(cat):\n",
    "    info = pd.DataFrame({'age': train_events.groupby(cat)['age'].median(), 'sex': train_events.groupby(cat)['sex'].apply(get_mode)})\n",
    "    val_events = events[events['viewer_uid'].isin(VAL_IDS)].join(info, on=cat, how='left')\n",
    "    predicts = pd.DataFrame({'age': val_events.groupby('viewer_uid')['age'].median(), 'sex': val_events.groupby('viewer_uid')['sex'].apply(get_mode)}).loc[VAL_IDS]\n",
    "    predicts['sex'] = predicts['sex'].fillna(info['sex'].mode()[0])\n",
    "    predicts['age'] = predicts['age'].fillna(info['age'].median())\n",
    "    return predicts"
   ]
  },
  {
   "cell_type": "code",
   "execution_count": 95,
   "id": "a2c7664a",
   "metadata": {},
   "outputs": [
    {
     "name": "stdout",
     "output_type": "stream",
     "text": [
      "Weighted F1 = 0.3630 \tAccuracy = 0.7331 \tFinal Score = 0.4740\n"
     ]
    }
   ],
   "source": [
    "check(aggregate_mode('author_id'))"
   ]
  },
  {
   "cell_type": "code",
   "execution_count": 96,
   "id": "a19f0f4b",
   "metadata": {},
   "outputs": [
    {
     "name": "stdout",
     "output_type": "stream",
     "text": [
      "Weighted F1 = 0.2205 \tAccuracy = 0.6884 \tFinal Score = 0.3609\n"
     ]
    }
   ],
   "source": [
    "check(aggregate_mode('category'))"
   ]
  },
  {
   "cell_type": "code",
   "execution_count": 97,
   "id": "d9973b60",
   "metadata": {},
   "outputs": [
    {
     "name": "stdout",
     "output_type": "stream",
     "text": [
      "Weighted F1 = 0.3970 \tAccuracy = 0.7408 \tFinal Score = 0.5002\n"
     ]
    }
   ],
   "source": [
    "check(aggregate_mode('rutube_video_id'))"
   ]
  },
  {
   "cell_type": "code",
   "execution_count": 102,
   "id": "9da6b66b",
   "metadata": {},
   "outputs": [
    {
     "name": "stdout",
     "output_type": "stream",
     "text": [
      "Weighted F1 = 0.1914 \tAccuracy = 0.4967 \tFinal Score = 0.2830\n"
     ]
    }
   ],
   "source": [
    "check(aggregate_mode('timezone'))"
   ]
  },
  {
   "cell_type": "code",
   "execution_count": 103,
   "id": "63d86f33",
   "metadata": {},
   "outputs": [
    {
     "name": "stdout",
     "output_type": "stream",
     "text": [
      "Weighted F1 = 0.1989 \tAccuracy = 0.4971 \tFinal Score = 0.2884\n"
     ]
    }
   ],
   "source": [
    "check(aggregate_mode('region'))"
   ]
  },
  {
   "cell_type": "code",
   "execution_count": 105,
   "id": "f10773e3",
   "metadata": {},
   "outputs": [
    {
     "name": "stdout",
     "output_type": "stream",
     "text": [
      "Weighted F1 = 0.1914 \tAccuracy = 0.4967 \tFinal Score = 0.2830\n"
     ]
    }
   ],
   "source": [
    "check(aggregate_mode('ua_device_type'))"
   ]
  },
  {
   "cell_type": "code",
   "execution_count": 107,
   "id": "87a2a9e0",
   "metadata": {},
   "outputs": [
    {
     "name": "stdout",
     "output_type": "stream",
     "text": [
      "Weighted F1 = 0.1914 \tAccuracy = 0.4967 \tFinal Score = 0.2830\n"
     ]
    }
   ],
   "source": [
    "check(aggregate_mode('ua_client_type'))"
   ]
  },
  {
   "cell_type": "code",
   "execution_count": 108,
   "id": "79fc7e8f",
   "metadata": {},
   "outputs": [
    {
     "name": "stdout",
     "output_type": "stream",
     "text": [
      "Weighted F1 = 0.2523 \tAccuracy = 0.4990 \tFinal Score = 0.3263\n"
     ]
    }
   ],
   "source": [
    "check(aggregate_mode('ua_os'))"
   ]
  },
  {
   "cell_type": "code",
   "execution_count": 109,
   "id": "3716ce13",
   "metadata": {},
   "outputs": [
    {
     "name": "stdout",
     "output_type": "stream",
     "text": [
      "Weighted F1 = 0.2458 \tAccuracy = 0.5278 \tFinal Score = 0.3304\n"
     ]
    }
   ],
   "source": [
    "check(aggregate_mode('ua_client_name'))"
   ]
  },
  {
   "cell_type": "code",
   "execution_count": 111,
   "id": "0c338910",
   "metadata": {},
   "outputs": [
    {
     "name": "stdout",
     "output_type": "stream",
     "text": [
      "Weighted F1 = 0.1914 \tAccuracy = 0.4967 \tFinal Score = 0.2830\n"
     ]
    }
   ],
   "source": [
    "check(aggregate_mode('weekday'))"
   ]
  },
  {
   "cell_type": "code",
   "execution_count": 112,
   "id": "4095ca3b",
   "metadata": {},
   "outputs": [
    {
     "name": "stdout",
     "output_type": "stream",
     "text": [
      "Weighted F1 = 0.1914 \tAccuracy = 0.4967 \tFinal Score = 0.2830\n"
     ]
    }
   ],
   "source": [
    "check(aggregate_mode('part of day'))"
   ]
  },
  {
   "cell_type": "markdown",
   "id": "c053a42b",
   "metadata": {},
   "source": [
    "categorial by mode\n",
    "\n",
    "- yes: rutube_video_id, category, author_id, \n",
    "\n",
    "- mb: ua_os, ua_client_name, age stds\n",
    "\n",
    "- no: ua_client_type, ua_device_type, timezone, region, weekday, part of day"
   ]
  },
  {
   "cell_type": "code",
   "execution_count": 190,
   "id": "ecb37158",
   "metadata": {},
   "outputs": [],
   "source": [
    "def aggregate_mode_train(cat):\n",
    "    info = pd.DataFrame({'age': train_events.groupby(cat)['age'].median(), 'sex': train_events.groupby(cat)['sex'].apply(get_mode)})\n",
    "    _events = events[events['viewer_uid'].isin(TRAIN_IDS)].join(info, on=cat, how='left')\n",
    "    predicts = pd.DataFrame({\n",
    "            cat+' age': _events.groupby('viewer_uid')['age'].median(),\n",
    "            # cat+' var age': _events.groupby('viewer_uid')['age'].std(),\n",
    "            cat+' sex': _events.groupby('viewer_uid')['sex'].apply(get_mode)\n",
    "        }).loc[TRAIN_IDS]\n",
    "    predicts[cat+' age'] = predicts[cat+' age'].fillna(info['age'].median())\n",
    "    # predicts[cat+' var age'] = predicts[cat+' var age'].fillna(0)\n",
    "    predicts[cat+' sex'] = predicts[cat+' sex'].fillna(info['sex'].mode()[0])\n",
    "    return predicts\n",
    "def aggregate_mode_val(cat):\n",
    "    info = pd.DataFrame({'age': train_events.groupby(cat)['age'].median(), 'sex': train_events.groupby(cat)['sex'].apply(get_mode)})\n",
    "    _events = events[events['viewer_uid'].isin(VAL_IDS)].join(info, on=cat, how='left')\n",
    "    predicts = pd.DataFrame({\n",
    "            cat+' age': _events.groupby('viewer_uid')['age'].median(),\n",
    "            # cat+' var age': _events.groupby('viewer_uid')['age'].std(),\n",
    "            cat+' sex': _events.groupby('viewer_uid')['sex'].apply(get_mode)\n",
    "        }).loc[VAL_IDS]\n",
    "    predicts[cat+' age'] = predicts[cat+' age'].fillna(info['age'].median())\n",
    "    # predicts[cat+' var age'] = predicts[cat+' var age'].fillna(0)\n",
    "    predicts[cat+' sex'] = predicts[cat+' sex'].fillna(info['sex'].mode()[0])\n",
    "    return predicts\n",
    "# data_mode = pd.DataFrame({c: data[c].groupby(data['viewer_uid']).apply(get_mode) for c in ['ua_client_type', 'ua_device_type', 'weekday', 'part of day']})\n",
    "\n",
    "from catboost import CatBoostClassifier, CatBoostRegressor\n",
    "X_tr = pd.concat((\n",
    "    aggregate_mode_train('rutube_video_id'),\n",
    "    aggregate_mode_train('category'),\n",
    "    aggregate_mode_train('author_id'),\n",
    "    aggregate_mode_train('ua_os'),\n",
    "    aggregate_mode_train('ua_client_name'),\n",
    "    ), 1)\n",
    "X_vl = pd.concat((\n",
    "    aggregate_mode_val('rutube_video_id'),\n",
    "    aggregate_mode_val('category'),\n",
    "    aggregate_mode_val('author_id'),\n",
    "    aggregate_mode_val('ua_os'),\n",
    "    aggregate_mode_val('ua_client_name'),\n",
    "    ), 1)\n",
    "\n",
    "y_tr = targets.set_index('viewer_uid')[['sex','age']].loc[TRAIN_IDS]\n",
    "lsex = LabelEncoder().fit(y_tr['sex'])\n",
    "y_tr['sex'] = lsex.transform(y_tr['sex'])\n",
    "cf = [c+' sex' for c in ['rutube_video_id', 'category', 'author_id', 'ua_client_name', 'ua_os']]  #+ ['ua_client_type', 'ua_device_type', 'weekday', 'part of day']\n",
    "model_sex = CatBoostClassifier(verbose=False, cat_features=cf).fit(X_tr, y_tr['sex'])\n",
    "model_age = CatBoostRegressor(verbose=False, cat_features=cf).fit(X_tr, y_tr['age'])"
   ]
  },
  {
   "cell_type": "code",
   "execution_count": 161,
   "id": "0e100855",
   "metadata": {},
   "outputs": [
    {
     "name": "stdout",
     "output_type": "stream",
     "text": [
      "Weighted F1 = 0.4194 \tAccuracy = 0.7425 \tFinal Score = 0.5163\n"
     ]
    }
   ],
   "source": [
    "check(pd.DataFrame({'sex': lsex.inverse_transform(model_sex.predict(X_vl)), 'age': model_age.predict(X_vl), 'viewer_uid': X_vl.index}))"
   ]
  },
  {
   "cell_type": "markdown",
   "id": "78f1f7f8-fcff-4c6b-933b-3957933a56c7",
   "metadata": {},
   "source": [
    "# Подсчет метрики"
   ]
  },
  {
   "cell_type": "code",
   "execution_count": 106,
   "id": "a876ed0b-f68d-4b0e-bd72-d8c23c5825d2",
   "metadata": {},
   "outputs": [
    {
     "data": {
      "text/html": [
       "<div>\n",
       "<style scoped>\n",
       "    .dataframe tbody tr th:only-of-type {\n",
       "        vertical-align: middle;\n",
       "    }\n",
       "\n",
       "    .dataframe tbody tr th {\n",
       "        vertical-align: top;\n",
       "    }\n",
       "\n",
       "    .dataframe thead th {\n",
       "        text-align: right;\n",
       "    }\n",
       "</style>\n",
       "<table border=\"1\" class=\"dataframe\">\n",
       "  <thead>\n",
       "    <tr style=\"text-align: right;\">\n",
       "      <th></th>\n",
       "      <th>event_timestamp</th>\n",
       "      <th>region</th>\n",
       "      <th>ua_device_type</th>\n",
       "      <th>ua_client_type</th>\n",
       "      <th>ua_os</th>\n",
       "      <th>ua_client_name</th>\n",
       "      <th>total_watchtime</th>\n",
       "      <th>rutube_video_id</th>\n",
       "      <th>viewer_uid</th>\n",
       "      <th>local_event_timestamp</th>\n",
       "      <th>weekday</th>\n",
       "      <th>part of day</th>\n",
       "      <th>timezone</th>\n",
       "    </tr>\n",
       "  </thead>\n",
       "  <tbody>\n",
       "    <tr>\n",
       "      <th>0</th>\n",
       "      <td>2024-06-01 06:40:58+03:00</td>\n",
       "      <td>Chelyabinsk</td>\n",
       "      <td>desktop</td>\n",
       "      <td>browser</td>\n",
       "      <td>Windows</td>\n",
       "      <td>Yandex Browser</td>\n",
       "      <td>1883</td>\n",
       "      <td>video_133074</td>\n",
       "      <td>10067243</td>\n",
       "      <td>2024-06-01 08:40:58</td>\n",
       "      <td>0</td>\n",
       "      <td>0</td>\n",
       "      <td>Asia/Yekaterinburg</td>\n",
       "    </tr>\n",
       "  </tbody>\n",
       "</table>\n",
       "</div>"
      ],
      "text/plain": [
       "             event_timestamp       region ua_device_type ua_client_type  \\\n",
       "0  2024-06-01 06:40:58+03:00  Chelyabinsk        desktop        browser   \n",
       "\n",
       "     ua_os  ua_client_name  total_watchtime rutube_video_id  viewer_uid  \\\n",
       "0  Windows  Yandex Browser             1883    video_133074    10067243   \n",
       "\n",
       "  local_event_timestamp  weekday  part of day            timezone  \n",
       "0   2024-06-01 08:40:58        0            0  Asia/Yekaterinburg  "
      ]
     },
     "execution_count": 106,
     "metadata": {},
     "output_type": "execute_result"
    }
   ],
   "source": [
    "data.head(1)"
   ]
  },
  {
   "cell_type": "markdown",
   "id": "8e372100-f7fa-4d06-b8c9-9c9acdb5c9ea",
   "metadata": {},
   "source": [
    "# Пример заполнения submission.csv\n",
    "    Перед отправкой убедитесь, что количество уникальных пользователей в тестовой выборке и в вашей таблице предсказаний совпадает. Проверьте, чтобы в столбцах с прогнозируемыми значениями не было пропущенных значений. \n",
    "\n",
    "    Идентификаторы пользователей (viewer_uid) нужно сохранить как отдельную колонку, а не индекс таблицы.\n",
    "    \n",
    "    Не забудьте сохранить файл с параметром index = False."
   ]
  },
  {
   "cell_type": "code",
   "execution_count": 21,
   "id": "e43ca52a-a403-45fe-96f3-f8f7b151c001",
   "metadata": {},
   "outputs": [],
   "source": [
    "submission = pd.DataFrame(columns=['viewer_uid', 'sex', 'age_class'])\n",
    "submission['viewer_uid'] = predicts['viewer_uid'].values\n",
    "submission['sex'] = predicts['sex_mode'].values\n",
    "submission['age_class'] = predicts['age_class'].values"
   ]
  },
  {
   "cell_type": "code",
   "execution_count": 22,
   "id": "8593883c-6e2d-47e3-b1de-25aa8d2bf8d2",
   "metadata": {},
   "outputs": [
    {
     "data": {
      "text/html": [
       "<div>\n",
       "<style scoped>\n",
       "    .dataframe tbody tr th:only-of-type {\n",
       "        vertical-align: middle;\n",
       "    }\n",
       "\n",
       "    .dataframe tbody tr th {\n",
       "        vertical-align: top;\n",
       "    }\n",
       "\n",
       "    .dataframe thead th {\n",
       "        text-align: right;\n",
       "    }\n",
       "</style>\n",
       "<table border=\"1\" class=\"dataframe\">\n",
       "  <thead>\n",
       "    <tr style=\"text-align: right;\">\n",
       "      <th></th>\n",
       "      <th>viewer_uid</th>\n",
       "      <th>sex</th>\n",
       "      <th>age_class</th>\n",
       "    </tr>\n",
       "  </thead>\n",
       "  <tbody>\n",
       "    <tr>\n",
       "      <th>0</th>\n",
       "      <td>10000001</td>\n",
       "      <td>female</td>\n",
       "      <td>2</td>\n",
       "    </tr>\n",
       "    <tr>\n",
       "      <th>1</th>\n",
       "      <td>10000007</td>\n",
       "      <td>male</td>\n",
       "      <td>2</td>\n",
       "    </tr>\n",
       "    <tr>\n",
       "      <th>2</th>\n",
       "      <td>10000010</td>\n",
       "      <td>male</td>\n",
       "      <td>2</td>\n",
       "    </tr>\n",
       "    <tr>\n",
       "      <th>3</th>\n",
       "      <td>10000012</td>\n",
       "      <td>male</td>\n",
       "      <td>2</td>\n",
       "    </tr>\n",
       "    <tr>\n",
       "      <th>4</th>\n",
       "      <td>10000014</td>\n",
       "      <td>male</td>\n",
       "      <td>2</td>\n",
       "    </tr>\n",
       "  </tbody>\n",
       "</table>\n",
       "</div>"
      ],
      "text/plain": [
       "   viewer_uid     sex age_class\n",
       "0    10000001  female         2\n",
       "1    10000007    male         2\n",
       "2    10000010    male         2\n",
       "3    10000012    male         2\n",
       "4    10000014    male         2"
      ]
     },
     "execution_count": 22,
     "metadata": {},
     "output_type": "execute_result"
    }
   ],
   "source": [
    "submission.head()"
   ]
  },
  {
   "cell_type": "code",
   "execution_count": null,
   "id": "d2f4ea74-e671-4dd7-b72d-796c7117a00b",
   "metadata": {},
   "outputs": [],
   "source": [
    "submission.to_csv(\n",
    "    # path/submission.csv,\n",
    "    # index=False\n",
    ")"
   ]
  }
 ],
 "metadata": {
  "kernelspec": {
   "display_name": "Python 3 (ipykernel)",
   "language": "python",
   "name": "python3"
  },
  "language_info": {
   "codemirror_mode": {
    "name": "ipython",
    "version": 3
   },
   "file_extension": ".py",
   "mimetype": "text/x-python",
   "name": "python",
   "nbconvert_exporter": "python",
   "pygments_lexer": "ipython3",
   "version": "3.10.6"
  },
  "toc": {
   "base_numbering": 1,
   "nav_menu": {},
   "number_sections": true,
   "sideBar": true,
   "skip_h1_title": false,
   "title_cell": "Table of Contents",
   "title_sidebar": "Contents",
   "toc_cell": false,
   "toc_position": {},
   "toc_section_display": true,
   "toc_window_display": false
  }
 },
 "nbformat": 4,
 "nbformat_minor": 5
}
